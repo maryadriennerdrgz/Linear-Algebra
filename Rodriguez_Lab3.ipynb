{
  "nbformat": 4,
  "nbformat_minor": 0,
  "metadata": {
    "colab": {
      "name": "Rodriguez_Lab3.ipynb",
      "provenance": [],
      "authorship_tag": "ABX9TyPXZKCaAm6CQaQb8DE1vvVv",
      "include_colab_link": true
    },
    "kernelspec": {
      "name": "python3",
      "display_name": "Python 3"
    }
  },
  "cells": [
    {
      "cell_type": "markdown",
      "metadata": {
        "id": "view-in-github",
        "colab_type": "text"
      },
      "source": [
        "<a href=\"https://colab.research.google.com/github/maryadriennerdrgz/Linear-Algebra/blob/master/Rodriguez_Lab3.ipynb\" target=\"_parent\"><img src=\"https://colab.research.google.com/assets/colab-badge.svg\" alt=\"Open In Colab\"/></a>"
      ]
    },
    {
      "cell_type": "markdown",
      "metadata": {
        "id": "aXFPwyRoDCyh"
      },
      "source": [
        "#**Linear Algebra for CpE**\n",
        "##**Laboratory 3 : Linear Combination and Vector Spaces** <br>\n",
        "Now that you have a fundamental knowledge about vector representations, we'll try to look into greater dimensions. <br>\n",
        "<br>\n",
        "######**Objectives**\n",
        "At the end of this activity you will be able to:\n",
        "1. Be familiar with representing linear combinations in the 2-dimensional plane.\n",
        "2. Visualize spans using vector fields in Python.\n",
        "3. Perform vector fields operations using scientific programming.\n",
        "\n"
      ]
    },
    {
      "cell_type": "markdown",
      "metadata": {
        "id": "u8m_S6-rDSnP"
      },
      "source": [
        "#**Discussion**"
      ]
    },
    {
      "cell_type": "code",
      "metadata": {
        "id": "v7qLPaEADSAU"
      },
      "source": [
        "import numpy as np\n",
        "import matplotlib.pyplot as plt\n",
        "%matplotlib inline"
      ],
      "execution_count": 3,
      "outputs": []
    },
    {
      "cell_type": "markdown",
      "metadata": {
        "id": "meFJU7vjDx0K"
      },
      "source": [
        "#**Linear Combination**<br>\n",
        "It is said that a linear combination is the combination of linear scaling and addition of a vector its bases/components\n",
        "\n",
        "We will try to visualize the vectors and their linear combinations by plotting a sample of real number values for the scalars for the vectors. Let's first try the vectors below:\n",
        "\n",
        "$$X = \\begin{bmatrix} 2\\\\5 \\\\\\end{bmatrix} , Y = \\begin{bmatrix} 7\\\\9 \\\\\\end{bmatrix} $$"
      ]
    },
    {
      "cell_type": "code",
      "metadata": {
        "id": "HL9rEWFuD9M6"
      },
      "source": [
        "vectX =  np.array([2,5])\n",
        "vectY =  np.array([7,9])"
      ],
      "execution_count": 4,
      "outputs": []
    },
    {
      "cell_type": "markdown",
      "metadata": {
        "id": "nfRczz77IX73"
      },
      "source": [
        "**Span of single vectors**<br>\n",
        "As discussed in the lecture, the span of individual vectors can be represented by a line span. Let's take vector $X$ as an example.\n",
        "\n",
        "$$X = c\\cdot \\begin{bmatrix} 2\\\\5 \\\\\\end{bmatrix} $$"
      ]
    },
    {
      "cell_type": "code",
      "metadata": {
        "id": "MzK3AeVLIjaY",
        "outputId": "84f5adc2-9627-43bb-e1d2-a30b72c3ce6e",
        "colab": {
          "base_uri": "https://localhost:8080/",
          "height": 269
        }
      },
      "source": [
        "c = np.arange(-10,10,0.25)\n",
        "\n",
        "plt.scatter(c*vectX[0],c*vectX[1])\n",
        "\n",
        "\n",
        "plt.xlim(-10,10)\n",
        "plt.ylim(-10,10)\n",
        "plt.axhline(y=0, color='k')\n",
        "plt.axvline(x=0, color='k')\n",
        "plt.grid()\n",
        "plt.show()"
      ],
      "execution_count": 5,
      "outputs": [
        {
          "output_type": "display_data",
          "data": {
            "image/png": "[encoded data removed]",
            "text/plain": [
              "<Figure size 432x288 with 1 Axes>"
            ]
          },
          "metadata": {
            "tags": [],
            "needs_background": "light"
          }
        }
      ]
    },
    {
      "cell_type": "markdown",
      "metadata": {
        "id": "aCESGdXMIvs4"
      },
      "source": [
        "**Span of a linear combination of vectors**<br>\n",
        "So what if we are to plot the span of a linear combination of vectors? We can visualize as a plane on the 2-dimensional coordinate system. Let's take the span of the linear combination below:\n",
        "\n",
        "$$S = \\begin{Bmatrix} c_1 \\cdot\\begin{bmatrix} 1\\\\0 \\\\\\end{bmatrix}, \n",
        "c_2 \\cdot \\begin{bmatrix} 1\\\\-1 \\\\\\end{bmatrix}\\end{Bmatrix} $$"
      ]
    },
    {
      "cell_type": "code",
      "metadata": {
        "id": "Aa3TVZaiI384",
        "outputId": "8fbacde6-997e-4f6d-bcf7-36332ff17c33",
        "colab": {
          "base_uri": "https://localhost:8080/",
          "height": 265
        }
      },
      "source": [
        "vectA = np.array([1,0])\n",
        "vectB = np.array([1,-1])\n",
        "R = np.arange(-10,10,1)\n",
        "c1, c2 = np.meshgrid(R,R)\n",
        "vectR = vectA + vectB\n",
        "spanRx = c1*vectA[0] + c2*vectB[0]\n",
        "spanRy = c1*vectA[1] + c2*vectB[1]\n",
        "# plt.scatter(R*vectA[0],R*vectA[1])\n",
        "plt.scatter(spanRx,spanRy, s=5, alpha=0.75)\n",
        "\n",
        "plt.axhline(y=0, color='k')\n",
        "plt.axvline(x=0, color='k')\n",
        "plt.grid()\n",
        "plt.show()"
      ],
      "execution_count": null,
      "outputs": [
        {
          "output_type": "display_data",
          "data": {
            "image/png": "[encoded data removed]",
            "text/plain": [
              "<Figure size 432x288 with 1 Axes>"
            ]
          },
          "metadata": {
            "tags": [],
            "needs_background": "light"
          }
        }
      ]
    },
    {
      "cell_type": "markdown",
      "metadata": {
        "id": "VGGyO9xMI80Y"
      },
      "source": [
        "Take note that if vectors are seen to be as a 2-dimensional span we can say it has a Rank of 2 or $\\mathbb{R}^2$. But if the span of the linear combination of vectors are seen to be like a line, they are said to be linearly **dependent** and they have a rank of 1 or $\\mathbb{R}^1$."
      ]
    },
    {
      "cell_type": "markdown",
      "metadata": {
        "id": "v6iax4egJEKH"
      },
      "source": [
        "##**Activity**\n",
        "**Task 1**<br>\n",
        "Try different linear combinations using different scalar values. In your methodology discuss the different functions that you have used, the linear equation and vector form of the linear combination, and the flowchart for declaring and displaying linear combinations. Please make sure that your flowchart has only few words and not putting the entire code as it is bad practice. In your results, display and discuss the linear combination visualization you made. You should use the cells below for displaying the equation markdows using LaTeX and your code."
      ]
    },
    {
      "cell_type": "markdown",
      "metadata": {
        "id": "5i7g36wTFpnP"
      },
      "source": [
        "$$ X=\\begin{bmatrix} 5 & 2 \\\\ 0 & 4 \\end{bmatrix} \\\\ $$<br>\n",
        "$$ Y=\\begin{bmatrix} -2 & 3 \\\\ 7 & -1 \\end{bmatrix} \\\\ $$<br>\n"
      ]
    },
    {
      "cell_type": "markdown",
      "metadata": {
        "id": "ihfPtWH-i1D6"
      },
      "source": [
        "###**Vector Values**"
      ]
    },
    {
      "cell_type": "code",
      "metadata": {
        "id": "v0ucbLxAJRBg"
      },
      "source": [
        "X = np.array([\n",
        "    [5,2],\n",
        "    [0,4]\n",
        "])\n",
        "Y = np.array([\n",
        "    [-2,3],\n",
        "    [7,-1]\n",
        "])\n"
      ],
      "execution_count": 35,
      "outputs": []
    },
    {
      "cell_type": "markdown",
      "metadata": {
        "id": "Iwz8MBcUioP6"
      },
      "source": [
        "**Addition**"
      ]
    },
    {
      "cell_type": "code",
      "metadata": {
        "id": "UpWJRy8Fbd17",
        "outputId": "c1abb125-8c8c-48b9-86d0-6d2d2425294d",
        "colab": {
          "base_uri": "https://localhost:8080/"
        }
      },
      "source": [
        "X+Y"
      ],
      "execution_count": 36,
      "outputs": [
        {
          "output_type": "execute_result",
          "data": {
            "text/plain": [
              "array([[3, 5],\n",
              "       [7, 3]])"
            ]
          },
          "metadata": {
            "tags": []
          },
          "execution_count": 36
        }
      ]
    },
    {
      "cell_type": "markdown",
      "metadata": {
        "id": "yIvgsS4fiiTN"
      },
      "source": [
        "**Subtraction**"
      ]
    },
    {
      "cell_type": "code",
      "metadata": {
        "id": "5SJjoyEYbXk5",
        "outputId": "6f7e8e52-db77-4f0e-badd-77fe400a497f",
        "colab": {
          "base_uri": "https://localhost:8080/"
        }
      },
      "source": [
        "X-Y"
      ],
      "execution_count": 34,
      "outputs": [
        {
          "output_type": "execute_result",
          "data": {
            "text/plain": [
              "array([[ 7, -1],\n",
              "       [-7,  5]])"
            ]
          },
          "metadata": {
            "tags": []
          },
          "execution_count": 34
        }
      ]
    },
    {
      "cell_type": "markdown",
      "metadata": {
        "id": "HzqRwznGieJt"
      },
      "source": [
        "**Multiply**"
      ]
    },
    {
      "cell_type": "code",
      "metadata": {
        "id": "3qRYwAKLav-G",
        "outputId": "8fe68c14-d701-416f-939e-6784f7441e18",
        "colab": {
          "base_uri": "https://localhost:8080/"
        }
      },
      "source": [
        "X@Y"
      ],
      "execution_count": 30,
      "outputs": [
        {
          "output_type": "execute_result",
          "data": {
            "text/plain": [
              "array([[ 4, 13],\n",
              "       [28, -4]])"
            ]
          },
          "metadata": {
            "tags": []
          },
          "execution_count": 30
        }
      ]
    },
    {
      "cell_type": "markdown",
      "metadata": {
        "id": "RWMOgCZVibgH"
      },
      "source": [
        "**Divide**"
      ]
    },
    {
      "cell_type": "code",
      "metadata": {
        "id": "shQCEsEmbJVU",
        "outputId": "0f41308d-a002-4586-aba3-efbbd6cb9929",
        "colab": {
          "base_uri": "https://localhost:8080/"
        }
      },
      "source": [
        "X/Y"
      ],
      "execution_count": 33,
      "outputs": [
        {
          "output_type": "execute_result",
          "data": {
            "text/plain": [
              "array([[-2.5       ,  0.66666667],\n",
              "       [ 0.        , -4.        ]])"
            ]
          },
          "metadata": {
            "tags": []
          },
          "execution_count": 33
        }
      ]
    },
    {
      "cell_type": "code",
      "metadata": {
        "id": "XKiPKibYbT_h"
      },
      "source": [
        ""
      ],
      "execution_count": null,
      "outputs": []
    },
    {
      "cell_type": "markdown",
      "metadata": {
        "id": "OJrexM3UUfLd"
      },
      "source": [
        "**Different Shapes**"
      ]
    },
    {
      "cell_type": "markdown",
      "metadata": {
        "id": "GsvKJRZTjAmC"
      },
      "source": [
        "$$ A=\\begin{bmatrix} 2 & 4 \\\\ 5 & -2 \\\\ 0 & 1 \\end{bmatrix} \\\\ $$<br>\n",
        "$$ B=\\begin{bmatrix} 1 & 1 \\\\ 3 & 3 \\end{bmatrix} \\\\ $$<br>\n",
        "$$ C=\\begin{bmatrix} 0 & 1 & 1 \\\\ 1 & 1 & 2 \\end{bmatrix} \\\\ $$<br>"
      ]
    },
    {
      "cell_type": "code",
      "metadata": {
        "id": "zLurpW1yUlk9",
        "outputId": "8f6d38d5-ab39-4543-acb0-0f2b9ddb2393",
        "colab": {
          "base_uri": "https://localhost:8080/"
        }
      },
      "source": [
        "A = np.array([\n",
        "    [2, 4],\n",
        "    [5, -2],\n",
        "    [0, 1]\n",
        "])\n",
        "B = np.array([\n",
        "    [1,1],\n",
        "    [3,3]\n",
        "])\n",
        "C = np.array([\n",
        "    [0,1,1],\n",
        "    [1,1,2]\n",
        "])\n",
        "print(A.shape)\n",
        "print(B.shape)\n",
        "print(C.shape)"
      ],
      "execution_count": 38,
      "outputs": [
        {
          "output_type": "stream",
          "text": [
            "(3, 2)\n",
            "(2, 2)\n",
            "(2, 3)\n"
          ],
          "name": "stdout"
        }
      ]
    },
    {
      "cell_type": "markdown",
      "metadata": {
        "id": "dj43Y5xvJTlO"
      },
      "source": [
        "**Task 2**<br>\n",
        "Try making three unque spans using different linear combinations . In your methodology discuss the different functions that you have used, the linear equations and vector form of span, and the flowchart for declaring and displaying span. Please make sure that your flowchart has only few words and not putting the entire code as it is bad practice. In your results, display and discuss the span visualization you made. You should use the cells below for displaying the equation markdows using LaTeX and your code."
      ]
    },
    {
      "cell_type": "markdown",
      "metadata": {
        "id": "VrtbWkTiVyxg"
      },
      "source": [
        "$$ Vector_A=\\begin{bmatrix} 5 \\\\ 2 \\end{bmatrix} \\\\ $$<br>\n",
        "$$ Vector_B=\\begin{bmatrix} -4 \\\\ 3 \\end{bmatrix} \\\\ $$<br>\n",
        "\n",
        "$$ R = X * Vector_A + Y * Vector_B $$"
      ]
    },
    {
      "cell_type": "code",
      "metadata": {
        "id": "KHtP7SSUJsBV",
        "outputId": "0ca90750-b0a9-4442-bc14-78fdc034eef8",
        "colab": {
          "base_uri": "https://localhost:8080/",
          "height": 265
        }
      },
      "source": [
        "VectorA = np.array([5,2])\n",
        "VectorB = np.array([-4,3])\n",
        "R = np.arange(-10,10,1)\n",
        "X,Y = np.meshgrid(R,R)\n",
        "VectorR = VectorA + VectorB\n",
        "\n",
        "spanRx = X*VectorA[0] + Y*VectorB[0]\n",
        "spanRy = X*VectorA[1] + Y*VectorB[1]\n",
        "plt.scatter(spanRx,spanRy, s=10, alpha=0.75 , color='green')\n",
        "\n",
        "plt.axhline(y=0, color='red')\n",
        "plt.axvline(x=0, color='blue')\n",
        "plt.grid()\n",
        "plt.show()"
      ],
      "execution_count": 46,
      "outputs": [
        {
          "output_type": "display_data",
          "data": {
            "image/png": "[encoded data removed]",
            "text/plain": [
              "<Figure size 432x288 with 1 Axes>"
            ]
          },
          "metadata": {
            "tags": [],
            "needs_background": "light"
          }
        }
      ]
    },
    {
      "cell_type": "markdown",
      "metadata": {
        "id": "ufXaakirZ4OL"
      },
      "source": [
        "$$ Vector_X=\\begin{bmatrix} 20 \\\\ 30 \\end{bmatrix} \\\\ $$<br>\n",
        "$$ Vector_Y=\\begin{bmatrix} 20 \\\\ 15 \\end{bmatrix} \\\\ $$<br>"
      ]
    },
    {
      "cell_type": "code",
      "metadata": {
        "id": "pCU8FC_RZ7eZ",
        "outputId": "f38a9a86-90a5-4a48-b4b3-b2f3f4700a02",
        "colab": {
          "base_uri": "https://localhost:8080/",
          "height": 265
        }
      },
      "source": [
        "VectorX =  np.array([20,30])\n",
        "VectorY =  np.array([25,15])\n",
        "\n",
        "c = np.arange(-35,35,0.25)\n",
        "\n",
        "plt.scatter(c*VectorX[0],c*VectorY[1],s=20, color='green')\n",
        "\n",
        "\n",
        "plt.xlim(-35,35)\n",
        "plt.ylim(-35,35)\n",
        "plt.axhline(y=0, color='red')\n",
        "plt.axvline(x=0, color='blue')\n",
        "plt.grid()\n",
        "plt.show()"
      ],
      "execution_count": 50,
      "outputs": [
        {
          "output_type": "display_data",
          "data": {
            "image/png": "[encoded data removed]",
            "text/plain": [
              "<Figure size 432x288 with 1 Axes>"
            ]
          },
          "metadata": {
            "tags": [],
            "needs_background": "light"
          }
        }
      ]
    },
    {
      "cell_type": "markdown",
      "metadata": {
        "id": "J40J1AUFozDR"
      },
      "source": [
        "$$ Vector_A=\\begin{bmatrix} 2 \\\\ 1 \\end{bmatrix} \\\\ $$<br>\n",
        "$$ Vector_B=\\begin{bmatrix} 2 \\\\ -2 \\end{bmatrix} \\\\ $$<br>\n",
        "\n",
        "$$ R = X (Vect_A) + Y (Vect_B) $$"
      ]
    },
    {
      "cell_type": "code",
      "metadata": {
        "id": "n37sBB84nz7_",
        "outputId": "a603bd66-ae60-45c2-98db-a58b412f19fe",
        "colab": {
          "base_uri": "https://localhost:8080/",
          "height": 265
        }
      },
      "source": [
        "vectA = np.array([2,1])\n",
        "vectB = np.array([2,-2])\n",
        "R = np.arange(-10,10,1)\n",
        "c1, c2 = np.meshgrid(R,R)\n",
        "vectR = vectA + vectB\n",
        "spanRx = c1*vectA[0] + c2*vectB[0]\n",
        "spanRy = c1*vectA[1] + c2*vectB[1]\n",
        "# plt.scatter(R*vectA[0],R*vectA[1])\n",
        "plt.scatter(spanRx,spanRy, s=5, alpha=0.75, color='green')\n",
        "\n",
        "plt.axhline(y=0, color='red')\n",
        "plt.axvline(x=0, color='blue')\n",
        "plt.grid()\n",
        "plt.show()"
      ],
      "execution_count": 51,
      "outputs": [
        {
          "output_type": "display_data",
          "data": {
            "image/png": "[encoded data removed]",
            "text/plain": [
              "<Figure size 432x288 with 1 Axes>"
            ]
          },
          "metadata": {
            "tags": [],
            "needs_background": "light"
          }
        }
      ]
    }
  ]
}