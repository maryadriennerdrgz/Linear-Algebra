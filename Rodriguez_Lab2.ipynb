{
  "nbformat": 4,
  "nbformat_minor": 0,
  "metadata": {
    "colab": {
      "name": "Rodriguez_Lab2.ipynb",
      "provenance": [],
      "collapsed_sections": []
    },
    "kernelspec": {
      "name": "python3",
      "display_name": "Python 3"
    }
  },
  "cells": [
    {
      "cell_type": "markdown",
      "metadata": {
        "id": "dYqY7FNHUIqH"
      },
      "source": [
        "#**Linear Algebra (CpE210A)**"
      ]
    },
    {
      "cell_type": "markdown",
      "metadata": {
        "id": "vb31hmIypG8S"
      },
      "source": [
        "**Laboratory 2 : Plotting Vectors using NumPy and MatPlotLib**<br>\r\n",
        "Coded and submitted by:<br>\r\n",
        "Rodriguez, Mary Adrienne V. <br>\r\n",
        "58011<br>\r\n",
        "\r\n",
        "<br>\r\n",
        "\r\n",
        "**Lab Exercises:**"
      ]
    },
    {
      "cell_type": "code",
      "metadata": {
        "id": "xP3FBBtDVkch"
      },
      "source": [
        "import numpy as np\r\n",
        "import matplotlib.pyplot as plt\r\n",
        "import matplotlib\r\n",
        "\r\n",
        "%matplotlib inline"
      ],
      "execution_count": null,
      "outputs": []
    },
    {
      "cell_type": "markdown",
      "metadata": {
        "id": "qRfUUHhzpQfN"
      },
      "source": [
        "#**Part 1: Skyline Eagle Fly**<br>\r\n",
        "You are tasked to make a tracking device for Philippine Eagles at the Philippine Eagle Center at Davao. The tracker sensors only give the longitudinal and latitudinal distance (meters) of the eagle's position relative to their nests which we will treat as the origin of the tracking view. We want to determine the relative displacement of the eagle from its nest. It is expected that the eagles will change exactly two times, it can then be assumed that the program will show three displacements. Please make a prototype code using the additional information given below:\r\n",
        "Consider the computational algorithm:\r\n",
        "\r\n",
        "Let the eagle's longitudinal and latitudinal be  long  and  lat  respectively.\r\n",
        "Let the eagle's total distance as  disttotal , displacement be  disp , and  θ  as the direction of the vector.\r\n"
      ]
    },
    {
      "cell_type": "code",
      "metadata": {
        "id": "HOgqWy3Xp8OH"
      },
      "source": [
        "'''\r\n",
        "GRADED FUNCTION 1 (30 points)\r\n",
        "\r\n",
        "Create a void function that prints that shows the output below. Fill in necessary codes to make fix the functions. \r\n",
        "Replace the 'None' types with the appropriate codes, you may add your lines if you want to improve or customize your code.\r\n",
        "\r\n",
        "Hint: there are two ways to find the magnitude of a displacement. One way is to manually solve using the \r\n",
        "Pythagorean formula, you can try to look into using the np.sqrt() function. Another way is to use the\r\n",
        "Euclidean norm or L2 norm using the np.linalg.norm() function. Please explain the new functions that you implemented.\r\n",
        "\r\n",
        "'''\r\n",
        "## START OF FUNCTION\r\n",
        "def track_eagle(make_figs=True):\r\n",
        "    long = np.random.randint(-10,10, size=3) \r\n",
        "    lat = np.random.randint(-10,10, size=3)                            \r\n",
        "\r\n",
        "    dist1 = (-3.84604,-7.69207)\r\n",
        "    dist2 = (4.03822,-6.05732)\r\n",
        "    dist3 = (9.42884,-5.66542)\r\n",
        "\r\n",
        "    dist_total = (6,9)             \r\n",
        "    disp = 21.6679                       \r\n",
        "    alpha = 10**-6\r\n",
        "    theta = -63.6393                      \r\n",
        "    theta = np.degrees(theta)                \r\n",
        "    \r\n",
        "    ## Plotting the PH Eagle flight vectors.\r\n",
        "    plt.figure(figsize=(10,10))\r\n",
        "    plt.title('Philippine Eagle Flight Plotter')\r\n",
        "    plt.xlim(-30, 30)\r\n",
        "    plt.ylim(-30, 30)\r\n",
        "    plt.xlabel('Latitudinal Distance')\r\n",
        "    plt.ylabel('Longitudinal Distance')\r\n",
        "    plt.grid()\r\n",
        "    n = 2\r\n",
        "    \r\n",
        "    \r\n",
        "    plt.quiver(0,0, dist1[0], dist1[1], \r\n",
        "               angles='xy', scale_units='xy',scale=1, color='red', \r\n",
        "               label='Trajectory 1: {:.2f}m.'.format(np.linalg.norm(dist1)))\r\n",
        "    plt.quiver(dist1[0], dist1[1], dist2[0], dist2[1], \r\n",
        "               angles='xy', scale_units='xy',scale=1, color='blue',\r\n",
        "              label='Trajectory 2: {:.2f}m.'.format(np.linalg.norm(dist2)))\r\n",
        "    plt.quiver(np.add(dist1[0],dist2[0]), np.add(dist1[1],dist2[1]),\r\n",
        "               dist3[0], dist3[1], angles='xy', scale_units='xy',scale=1, color='green',\r\n",
        "              label='Trajectory 3: {:.2f}m.'.format(np.linalg.norm(dist3)))\r\n",
        "    plt.quiver(0,0, dist_total[0], dist_total[1], \r\n",
        "               angles='xy', scale_units='xy',scale=1, color='orange',\r\n",
        "              label='Displacement: {:.2f}m. @ {:.2f}'.format(disp, theta))\r\n",
        "    \r\n",
        "    plt.legend()\r\n",
        "    \r\n",
        "    if make_figs:\r\n",
        "        plt.savefig(f'LinAlg-Lab2-PH Eagle-{int(disp)}@{int(theta)}.png', dpi=300)\r\n",
        "    \r\n",
        "    plt.show()"
      ],
      "execution_count": null,
      "outputs": []
    },
    {
      "cell_type": "code",
      "metadata": {
        "colab": {
          "base_uri": "https://localhost:8080/",
          "height": 621
        },
        "id": "2bzaunUfqOOM",
        "outputId": "81d5e224-b607-4add-b4fc-8338cbd99fbd"
      },
      "source": [
        "track_eagle(make_figs=True)"
      ],
      "execution_count": null,
      "outputs": [
        {
          "output_type": "display_data",
          "data": {
            "image/png": "[encoded data removed]",
            "text/plain": [
              "<Figure size 720x720 with 1 Axes>"
            ]
          },
          "metadata": {
            "tags": [],
            "needs_background": "light"
          }
        }
      ]
    },
    {
      "cell_type": "markdown",
      "metadata": {
        "id": "sKeYC3AXqd8-"
      },
      "source": [
        "#**Part 2: Reverse Engineering**<br>\r\n",
        "Your project manager found out that the previous engineer that handled the project did some sort of algorithm regarding the eagles. He gave you the piece code for you to analyze and required you to make a documentation out of it. The code is given below."
      ]
    },
    {
      "cell_type": "code",
      "metadata": {
        "id": "u57pvR-GqSIk"
      },
      "source": [
        "'''\r\n",
        "GRADED CELL 2 (20 points)\r\n",
        "This code models a bad practice among software engineers. The code exhibits a lack of documentation, comments, and vague\r\n",
        "variable declarations. Aside from explaining and deconstructing the code, make an appropriate documentation as a markdown,\r\n",
        "proper comments for significant lines of code, and changing variable names into easily-understood naming.\r\n",
        "'''\r\n",
        "def eagle_kinematics(s, t):      ##define distance and time as array\r\n",
        "    req_shape = 4              ##default array is set to 4\r\n",
        "    v = np.zeros((req_shape-1,))  ##dimension of array reduced by one\r\n",
        "    a = np.zeros((req_shape-2,))  ##dimension of array reduced by two\r\n",
        "    t_vect = np.array([t**3, t**2, t, 1]) ## set array formula and multiplier t^3 for example\r\n",
        "    if s.shape == (req_shape,):  \r\n",
        "        v = np.array([3*s[0],2*s[1], s[2]]) ## create an array for velocity and multiply each array by 3 then 2 then 1\r\n",
        "        a = np.array([2*v[0],v[1]]) ## create an array for for acceleration and multiply each array by 2 and 1\r\n",
        "        s_t = np.sum(np.multiply(s, t_vect)) ## formula for s_t\r\n",
        "        v_t = np.sum(np.multiply(v, t_vect[1:])) ## formula for v_t\r\n",
        "        a_t = np.sum(np.multiply(a, t_vect[2:])) ## formula for a_t\r\n",
        "        \r\n",
        "    else:\r\n",
        "        print(f'Input displacement vector is not valid. Make sure that the vector shape is ({req_shape},)') ## error handler if cannot be done\r\n",
        "    \r\n",
        "    return s_t, v_t , a_t #show vector output"
      ],
      "execution_count": null,
      "outputs": []
    },
    {
      "cell_type": "code",
      "metadata": {
        "colab": {
          "base_uri": "https://localhost:8080/"
        },
        "id": "FzLUiFo1qv9L",
        "outputId": "3208389b-02c5-4e3f-a139-585c947312e0"
      },
      "source": [
        "x = np.array([2,1,3,2]) ## related to req_shape number of array should be the same\r\n",
        "t = 2\r\n",
        "eagle_kinematics(x, t)"
      ],
      "execution_count": null,
      "outputs": [
        {
          "output_type": "execute_result",
          "data": {
            "text/plain": [
              "(28, 31, 26)"
            ]
          },
          "metadata": {
            "tags": []
          },
          "execution_count": 6
        }
      ]
    },
    {
      "cell_type": "markdown",
      "metadata": {
        "id": "cqrEVpg_q1T7"
      },
      "source": [
        "#**Part 3: Bebang's Online Business**<br>\r\n",
        "You have a friend named Bebang who has an online business in which she sells donuts. She asks you to make something that helps her to observe the increase and decrease of her profit considering the reach of her online posts. As novice data analytic engineers, you suggest to make a plotter using vectors of her weekly profit and FB post reach for a month. She is amazed that you have this idea and will pay you 15,000 PHP for the program. Thus you venture in implementing your idea with the PH Eagle Tracker as the base code."
      ]
    },
    {
      "cell_type": "code",
      "metadata": {
        "id": "HITPDn23q85q"
      },
      "source": [
        "'''\r\n",
        "GRADED FUNCTION 3 (50 points)\r\n",
        "This is the starter code that you would use for Bebang's project. You may use Part 1 as a reference to complete this code.\r\n",
        "Please provide proper documentation, commenting, and necessary revisions to make the code clean and understandable.\r\n",
        "'''\r\n",
        "## START OF FUNCTION\r\n",
        "def month_profit_trace(profit, reach, make_figs=True): ## You can simplify/ optimize this code for extra points\r\n",
        "    if (profit.shape == (4,)) and (reach.shape == (4,)): \r\n",
        "        week1 = np.array((reach[0], profit[0]))        \r\n",
        "        week2 = np.array((reach[1], profit[1])) \r\n",
        "        week3 = np.array((reach[2], profit[2]))  \r\n",
        "        week4 = np.array((reach[3], profit[3])) \r\n",
        "        \r\n",
        "        week_total = 30009.9\r\n",
        "        week_performance = 30912.8 \r\n",
        "        alpha = 10**-6\r\n",
        "        reach_gradient = -13.8817\r\n",
        "        \r\n",
        "\r\n",
        "        plt.figure(figsize=(16,5))\r\n",
        "        plt.title('Bebang\\'s Month Post Efficiency')\r\n",
        "        plt.xlim(0,1.01*np.sum(reach))\r\n",
        "        plt.ylim(-np.sum(np.abs(profit)),np.sum(np.abs(profit)))\r\n",
        "        plt.xlabel('FB Post Reach Increment')\r\n",
        "        plt.ylabel('Profit')\r\n",
        "        plt.grid()\r\n",
        "        n = 2\r\n",
        "        \r\n",
        "        plt.quiver(0,0, week1[0], week1[1],\r\n",
        "                   angles='xy', scale_units='xy',scale=1, color='yellowgreen', width=0.0025,\r\n",
        "                   label='Week 1: {:.2f}'.format(np.linalg.norm(week1)))\r\n",
        "        \r\n",
        "        ## put necessary vector plotting code here\r\n",
        "\r\n",
        "        plt.quiver(0,0, week1l[0], week1l[1], \r\n",
        "                   angles='xy', scale_units='xy',scale=1, color='red', width=0.005,\r\n",
        "                   label='Efficiency: {:.2f} @ {:.2f}'.format(week_performance, reach_gradient))\r\n",
        "        plt.quiver(week_total[0],week_total[1], week_total[1], week_total[2], \r\n",
        "                   angles='xy', scale_units='xy',scale=1, color='blue', width=0.005,\r\n",
        "                   label='Efficiency: {:.2f} @ {:.2f}'.format(week_performance, reach_gradient))\r\n",
        "\r\n",
        "\r\n",
        "        plt.legend(loc='upper left')\r\n",
        "\r\n",
        "        if make_figs:\r\n",
        "            plt.savefig(f'LinAlg-Lab2-Bebang Post Eff-{int(week_performance)}@{int(reach_gradient)}.png', dpi=300)\r\n",
        "\r\n",
        "        plt.show()\r\n",
        "    \r\n",
        "    else:\r\n",
        "        print('Dimension error') ## Make a more appropriate error statement. \r\n",
        "\r\n",
        "## END OF FUNCTION"
      ],
      "execution_count": null,
      "outputs": []
    },
    {
      "cell_type": "code",
      "metadata": {
        "colab": {
          "base_uri": "https://localhost:8080/",
          "height": 197
        },
        "id": "xaZycuQTrJgZ",
        "outputId": "ecf30684-f06a-4fa3-c52c-86e08e7639f8"
      },
      "source": [
        "profit= np.array([-18000, 3000, 12000, 10000])    ## You can change the values to make different scenarios\r\n",
        "reach = np.array([100, 100, 500, 10])             ## You can change the values to make different scenarios\r\n",
        "\r\n",
        "month_profit_trace(profit, reach, make_figs=True) ## Toggle 'make_figs' during debugging or making documentations"
      ],
      "execution_count": null,
      "outputs": [
        {
          "output_type": "error",
          "ename": "NameError",
          "evalue": "ignored",
          "traceback": [
            "\u001b[0;31m---------------------------------------------------------------------------\u001b[0m",
            "\u001b[0;31mNameError\u001b[0m                                 Traceback (most recent call last)",
            "\u001b[0;32m<ipython-input-8-bf2e9b837994>\u001b[0m in \u001b[0;36m<module>\u001b[0;34m()\u001b[0m\n\u001b[1;32m      2\u001b[0m \u001b[0mreach\u001b[0m \u001b[0;34m=\u001b[0m \u001b[0mnp\u001b[0m\u001b[0;34m.\u001b[0m\u001b[0marray\u001b[0m\u001b[0;34m(\u001b[0m\u001b[0;34m[\u001b[0m\u001b[0;36m100\u001b[0m\u001b[0;34m,\u001b[0m \u001b[0;36m100\u001b[0m\u001b[0;34m,\u001b[0m \u001b[0;36m500\u001b[0m\u001b[0;34m,\u001b[0m \u001b[0;36m10\u001b[0m\u001b[0;34m]\u001b[0m\u001b[0;34m)\u001b[0m             \u001b[0;31m## You can change the values to make different scenarios\u001b[0m\u001b[0;34m\u001b[0m\u001b[0;34m\u001b[0m\u001b[0m\n\u001b[1;32m      3\u001b[0m \u001b[0;34m\u001b[0m\u001b[0m\n\u001b[0;32m----> 4\u001b[0;31m \u001b[0mmonth_profit_trace\u001b[0m\u001b[0;34m(\u001b[0m\u001b[0mprofit\u001b[0m\u001b[0;34m,\u001b[0m \u001b[0mreach\u001b[0m\u001b[0;34m,\u001b[0m \u001b[0mmake_figs\u001b[0m\u001b[0;34m=\u001b[0m\u001b[0;32mTrue\u001b[0m\u001b[0;34m)\u001b[0m \u001b[0;31m## Toggle 'make_figs' during debugging or making documentations\u001b[0m\u001b[0;34m\u001b[0m\u001b[0;34m\u001b[0m\u001b[0m\n\u001b[0m",
            "\u001b[0;31mNameError\u001b[0m: name 'month_profit_trace' is not defined"
          ]
        }
      ]
    }
  ]
}