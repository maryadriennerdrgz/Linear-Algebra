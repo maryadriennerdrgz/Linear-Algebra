{
  "nbformat": 4,
  "nbformat_minor": 0,
  "metadata": {
    "colab": {
      "name": "Rodriguez_Lab1.ipynb",
      "provenance": [],
      "collapsed_sections": []
    },
    "kernelspec": {
      "name": "python3",
      "display_name": "Python 3"
    }
  },
  "cells": [
    {
      "cell_type": "markdown",
      "metadata": {
        "id": "RbFPj0vmjh5a"
      },
      "source": [
        "#**Linear Algebra (CpE210A)**"
      ]
    },
    {
      "cell_type": "markdown",
      "metadata": {
        "id": "6rpus-KmjxvJ"
      },
      "source": [
        "**Laboratory 1: Getting acquainted with Python**<br>\r\n",
        "Coded and submitted by:<br>\r\n",
        "Rodriguez, Mary Adrienne V. <br>\r\n",
        "58011<br>\r\n",
        "\r\n",
        "<br>\r\n",
        "\r\n",
        "**Lab Exercises:**"
      ]
    },
    {
      "cell_type": "code",
      "metadata": {
        "id": "8xFMGlrOjeJx"
      },
      "source": [
        "'''\r\n",
        "GRADED CELL 1 (50 points)\r\n",
        "Try to replicate the output shown below using the variables below.\r\n",
        "Note: Shorter the code higher the points!\r\n",
        "\r\n",
        "Score Matrix:\r\n",
        "Working        |Lines        |Points\r\n",
        "Yes            |3 or less    |100%\r\n",
        "Yes            |4 or more    |90%\r\n",
        "No             |1 or more    |70%\r\n",
        "No             |0            |0%\r\n",
        "\r\n",
        "Pro score: 1 line. --> +5 points (+10 with explanation)\r\n",
        "'''\r\n",
        "party = ['Charmander', 'Pidgey', 'Sandshrew', 'Rattata', 'Abra']\r\n",
        "levels = [15, 11, 18, 5, 14]"
      ],
      "execution_count": null,
      "outputs": []
    },
    {
      "cell_type": "code",
      "metadata": {
        "colab": {
          "base_uri": "https://localhost:8080/"
        },
        "id": "NoNufTkskKpW",
        "outputId": "15d98629-3a54-449f-8c38-d11a513b5ea9"
      },
      "source": [
        "party = {'Charmander':15,'Pidgey':11,'Sandshrew':18,'Rattata':5,'Abra':14}\r\n",
        "for x,y in party.items(): print(x, \"at level\",y)"
      ],
      "execution_count": null,
      "outputs": [
        {
          "output_type": "stream",
          "text": [
            "Charmander at level 15\n",
            "Pidgey at level 11\n",
            "Sandshrew at level 18\n",
            "Rattata at level 5\n",
            "Abra at level 14\n"
          ],
          "name": "stdout"
        }
      ]
    },
    {
      "cell_type": "code",
      "metadata": {
        "id": "OYZDsw1akSeN"
      },
      "source": [
        "'''\r\n",
        "GRADED CELL 2 (10 points)\r\n",
        "Problem 1: You are missing 1 more pokémon to complete your team. Listed below are your reserves.\r\n",
        "Identify the top 3  highest or lowest level pokémon and store them in a variable 'picks'. (Choose only one path)\r\n",
        "\r\n",
        "Score Matrix:\r\n",
        "Working        |Lines         |Points\r\n",
        "Yes            |20 or less    |100%\r\n",
        "Yes            |21 or more    |90%\r\n",
        "No             |1 or more     |70%\r\n",
        "No             |0             |0%\r\n",
        "\r\n",
        "Pro score: 1 line --> +30 points (+50 with explanation)\r\n",
        "Tip: try to search about sort(), sorted(), and append().\r\n",
        "'''\r\n",
        "reserves = [\r\n",
        "    ('Onix',10),\r\n",
        "    ('Slowpoke',18),\r\n",
        "    ('Dialga', 2),\r\n",
        "    ('Magikarp', 32),\r\n",
        "    ('Feebas', 22),\r\n",
        "    ('Swablu', 19),\r\n",
        "    ('Regigigas', 3),\r\n",
        "    ('Unown', 50)\r\n",
        "]"
      ],
      "execution_count": null,
      "outputs": []
    },
    {
      "cell_type": "code",
      "metadata": {
        "colab": {
          "base_uri": "https://localhost:8080/"
        },
        "id": "62eM1TsXkT9p",
        "outputId": "236212bb-da6e-4664-9afc-8b3d94bcf860"
      },
      "source": [
        "reserves = [\r\n",
        "    ('Onix', 10),\r\n",
        "    ('Slowpoke', 18),\r\n",
        "    ('Dialga', 2),\r\n",
        "    ('Magikarp', 32),\r\n",
        "    ('Feebas', 22),\r\n",
        "    ('Swablu', 19),\r\n",
        "    ('Regigigas', 3),\r\n",
        "    ('Unown', 50)\r\n",
        "]\r\n",
        "picks = sorted(reserves, key=lambda x: x[1])[:3] # sorting it by second val of tuple in ascending order\r\n",
        "print([x[0] for x in picks]) # printing the first vals of each picks (name of pokemon)"
      ],
      "execution_count": null,
      "outputs": [
        {
          "output_type": "stream",
          "text": [
            "['Dialga', 'Regigigas', 'Onix']\n"
          ],
          "name": "stdout"
        }
      ]
    },
    {
      "cell_type": "code",
      "metadata": {
        "id": "0dsthtvxkWqd"
      },
      "source": [
        "reserves = [\r\n",
        "    ('Onix', 10),\r\n",
        "    ('Slowpoke', 18),\r\n",
        "    ('Dialga', 2),\r\n",
        "    ('Magikarp', 32),\r\n",
        "    ('Feebas', 22),\r\n",
        "    ('Swablu', 19),\r\n",
        "    ('Regigigas', 3),\r\n",
        "    ('Unown', 50)\r\n",
        "]\r\n",
        "picks = sorted(reserves, key=lambda x: x[1], reverse=True)[:3] # sorting it by second val of tuple in descending order\r\n",
        "print([x[0] for x in picks]) # printing the first vals of each picks (name of pokemon)"
      ],
      "execution_count": null,
      "outputs": []
    },
    {
      "cell_type": "code",
      "metadata": {
        "id": "wubqw7mqkaPt"
      },
      "source": [
        "'''\r\n",
        "GRADED CELL 3 (40 points)\r\n",
        "Create a function named \"create_party\" that will add the chosen pokémon from graded cell 3 to the party from graded cell 1.\r\n",
        "The function should display all the possible parties while keeping the original members of the party.\r\n",
        "Note: A party should only have 6 pokémon.\r\n",
        "\r\n",
        "Score Matrix:\r\n",
        "Working        |Lines         |Points\r\n",
        "Yes            |20 or less    |100% \r\n",
        "Yes            |21 or more    |90%\r\n",
        "No             |1 or more     |70%\r\n",
        "No             |0             |0%\r\n",
        "\r\n",
        "Pro score: 1 line --> +30 points (+50 with explanation)\r\n",
        "Tip: try to search about sort(), sorted(), and append().\r\n",
        "'''\r\n",
        "def create_party(party, candidates):\r\n",
        "    return suggested_parties"
      ],
      "execution_count": null,
      "outputs": []
    },
    {
      "cell_type": "code",
      "metadata": {
        "colab": {
          "base_uri": "https://localhost:8080/"
        },
        "id": "JmLsN2elkgJn",
        "outputId": "bf78b34f-49b6-4590-93ca-dd88f60a7893"
      },
      "source": [
        "def create_party(party,candidates):\r\n",
        "    return [party.copy() + [x] for x in candidates]\r\n",
        "\r\n",
        "party = ['Charmander','Pidgey','Sandshrew','Rattata','Abra']\r\n",
        "reserves = [\r\n",
        "    ('Onix', 10),\r\n",
        "    ('Slowpoke', 18),\r\n",
        "    ('Dialga', 2),\r\n",
        "    ('Magikarp', 32),\r\n",
        "    ('Feebas', 22),\r\n",
        "    ('Swablu', 19),\r\n",
        "    ('Regigigas', 3),\r\n",
        "    ('Unown', 50)\r\n",
        "]\r\n",
        "picks = sorted(reserves, key=lambda x: x[1])[:3] # sorting it by second val of tuple in ascending order\r\n",
        "print('Sample Parties', *[x for x in create_party(party,[y[0] for y in picks])],sep='\\n') # printing the first vals of each picks (name of pokemon)"
      ],
      "execution_count": null,
      "outputs": [
        {
          "output_type": "stream",
          "text": [
            "Sample Parties\n",
            "['Charmander', 'Pidgey', 'Sandshrew', 'Rattata', 'Abra', 'Dialga']\n",
            "['Charmander', 'Pidgey', 'Sandshrew', 'Rattata', 'Abra', 'Regigigas']\n",
            "['Charmander', 'Pidgey', 'Sandshrew', 'Rattata', 'Abra', 'Onix']\n"
          ],
          "name": "stdout"
        }
      ]
    },
    {
      "cell_type": "code",
      "metadata": {
        "colab": {
          "base_uri": "https://localhost:8080/"
        },
        "id": "3fd-_Z35klif",
        "outputId": "f39b606f-9efb-4ed9-c056-06607b7bcf51"
      },
      "source": [
        "def create_party(party,candidates):\r\n",
        "    return [party.copy() + [x] for x in candidates]\r\n",
        "\r\n",
        "party = ['Charmander','Pidgey','Sandshrew','Rattata','Abra']\r\n",
        "reserves = [\r\n",
        "    ('Onix', 10),\r\n",
        "    ('Slowpoke', 18),\r\n",
        "    ('Dialga', 2),\r\n",
        "    ('Magikarp', 32),\r\n",
        "    ('Feebas', 22),\r\n",
        "    ('Swablu', 19),\r\n",
        "    ('Regigigas', 3),\r\n",
        "    ('Unown', 50)\r\n",
        "]\r\n",
        "picks = sorted(reserves, key=lambda x: x[1], reverse=True)[:3] # sorting it by second val of tuple in descending order\r\n",
        "print('Sample Parties', *[x for x in create_party(party,[y[0] for y in picks])],sep='\\n') # printing the first vals of each picks (name of pokemon)"
      ],
      "execution_count": null,
      "outputs": [
        {
          "output_type": "stream",
          "text": [
            "Sample Parties\n",
            "['Charmander', 'Pidgey', 'Sandshrew', 'Rattata', 'Abra', 'Unown']\n",
            "['Charmander', 'Pidgey', 'Sandshrew', 'Rattata', 'Abra', 'Magikarp']\n",
            "['Charmander', 'Pidgey', 'Sandshrew', 'Rattata', 'Abra', 'Feebas']\n"
          ],
          "name": "stdout"
        }
      ]
    }
  ]
}