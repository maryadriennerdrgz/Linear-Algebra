{
  "nbformat": 4,
  "nbformat_minor": 0,
  "metadata": {
    "colab": {
      "name": "Rodriguez_Lab6.ipynb",
      "provenance": [],
      "collapsed_sections": []
    },
    "kernelspec": {
      "name": "python3",
      "display_name": "Python 3"
    }
  },
  "cells": [
    {
      "cell_type": "markdown",
      "metadata": {
        "id": "0gR223GQVtCJ"
      },
      "source": [
        "#**Linear Algebra for CpE**\n",
        "##**Laboratory 6 : Matrices** <br>\n",
        "Now that you have a fundamental knowledge about vector representations, we'll try to look into greater dimensions. <br>\n",
        "<br>\n",
        "######**Objectives**\n",
        "At the end of this activity you will be able to:\n",
        "1. Be familiar with matrices and their relation to linear equations.\n",
        "2. Perform basic matrix operations.\n",
        "3. Program and translate matrix equations and operations using Python.\n",
        "\n"
      ]
    },
    {
      "cell_type": "markdown",
      "metadata": {
        "id": "cK1kxvjN_gH6"
      },
      "source": [
        "#**Discussion**"
      ]
    },
    {
      "cell_type": "code",
      "metadata": {
        "id": "DRuo0M7MVozH"
      },
      "source": [
        "import numpy as np\n",
        "import matplotlib.pyplot as plt\n",
        "import scipy.linalg as la\n",
        "%matplotlib inline"
      ],
      "execution_count": 1,
      "outputs": []
    },
    {
      "cell_type": "markdown",
      "metadata": {
        "id": "4tTnyS3z8Z5p"
      },
      "source": [
        "#####**Matrices**\n",
        "The notation and use of matrices is probably one of the fundamentals of modern computing. Matrices are also handy representations of complex equations or multiple inter-related equations from 2-dimensional equations to even hundreds and thousands of them.\n",
        "\n",
        "Let's say for example you have $A$ and $B$ as system of equation.\n",
        "\n",
        "$$ A = \\left\\{ \\begin{array}\\\\ x + y \\\\ 4x - 10y \\end{array} \\right. \\\\ B = \\left\\{ \\begin{array}\\\\ x+y+z \\\\ 3x -2y -z \\\\ -x + 4y +2z \\end{array} \\right. $$\n",
        "We could see that $A$ is a system of 2 equations with 2 parameters. While $B$ is a system of 3 equations with 3 parameters. We can represent them as matrices as:\n",
        "\n",
        "$$ A=\\begin{bmatrix} 1 & 1 \\\\ 4 & {-10}\\end{bmatrix} \\\\ B=\\begin{bmatrix} 1 & 1 & 1 \\\\ 3 & -2 & -1 \\\\ -1 & 4 & 2\\end{bmatrix} $$\n",
        "So assuming that you already discussed the fundamental representation of matrices, their types, and operations. We'll proceed in doing them in here in Python.<br>\n",
        "\n",
        "#####**Declaring Matrices**\n",
        "Just like our previous laboratory activity, we'll represent system of linear equations as a matrix. The entities or numbers in matrices are called the elements of a matrix. These elements are arranged and ordered in rows and columns which form the list/array-like structure of matrices. And just like arrays, these elements are indexed according to their position with respect to their rows and columns. This can be reprsented just like the equation below. Whereas $A$ is a matrix consisting of elements denoted by $a_{i,j}$. Denoted by $i$ is the number of rows in the matrix while $j$ stands for the number of columns.\n",
        "Do note that the $size$ of a matrix is $i\\times j$.\n",
        "\n",
        "$$A=\\begin{bmatrix}\n",
        "a_{(0,0)}&amp;a_{(0,1)}&amp;\\dots&amp;a_{(0,j-1)}\\\\\n",
        "a_{(1,0)}&amp;a_{(1,1)}&amp;\\dots&amp;a_{(1,j-1)}\\\\\n",
        "\\vdots&amp;\\vdots&amp;\\ddots&amp;\\vdots&amp;\\\\\n",
        "a_{(i-1,0)}&amp;a_{(i-1,1)}&amp;\\dots&amp;a_{(i-1,j-1)}\n",
        "\\end{bmatrix}.\n",
        "$$\n",
        "We already gone over some of the types of matrices as vectors but we'll further discuss them in this laboratory activity. Since you already know how to describe vectors using shape, dimensions and size attributes, we'll use them to analyze these matrices."
      ]
    },
    {
      "cell_type": "code",
      "metadata": {
        "id": "B1Dg4BQ58X1v"
      },
      "source": [
        "## Since we'll keep on describing matrices. Let's make a function.\n",
        "def describe_mat(matrix):\n",
        "    print(f'Matrix:\\n{matrix}\\n\\nShape:\\t{matrix.shape}\\nRank:\\t{matrix.ndim}\\n')"
      ],
      "execution_count": null,
      "outputs": []
    },
    {
      "cell_type": "code",
      "metadata": {
        "id": "S9V942di8mEh",
        "colab": {
          "base_uri": "https://localhost:8080/"
        },
        "outputId": "0c586521-7ced-4ca3-c968-5c858a03906e"
      },
      "source": [
        "## Declaring a 2 x 2 matrix\n",
        "A = np.array([\n",
        "    [1, 2],\n",
        "    [3, 1]\n",
        "])\n",
        "describe_mat(A)"
      ],
      "execution_count": null,
      "outputs": [
        {
          "output_type": "stream",
          "text": [
            "Matrix:\n",
            "[[1 2]\n",
            " [3 1]]\n",
            "\n",
            "Shape:\t(2, 2)\n",
            "Rank:\t2\n",
            "\n"
          ],
          "name": "stdout"
        }
      ]
    },
    {
      "cell_type": "code",
      "metadata": {
        "id": "eyvdy-qE8peB",
        "colab": {
          "base_uri": "https://localhost:8080/"
        },
        "outputId": "db1e2737-ea7d-4d14-efea-cc7415c3558e"
      },
      "source": [
        "## Declaring a 3 x 2 matrix\n",
        "B = np.array([\n",
        "    [8, 2],\n",
        "    [5, 4],\n",
        "    [1, 1]\n",
        "])\n",
        "describe_mat(B)"
      ],
      "execution_count": null,
      "outputs": [
        {
          "output_type": "stream",
          "text": [
            "Matrix:\n",
            "[[8 2]\n",
            " [5 4]\n",
            " [1 1]]\n",
            "\n",
            "Shape:\t(3, 2)\n",
            "Rank:\t2\n",
            "\n"
          ],
          "name": "stdout"
        }
      ]
    },
    {
      "cell_type": "markdown",
      "metadata": {
        "id": "0656MEfa8uc7"
      },
      "source": [
        "## **Categorizing Matrices**\n",
        "\n",
        "There are several ways of classifying matrices. Once could be according to their shape and another is according to their element values. We'll try to go through them.\n",
        "\n",
        "######**According to shape**\n",
        "\n",
        "######**Row and Column Matrices**\n",
        "\n",
        "Row and column matrices are common in vector and matrix computations. They can also represent row and column spaces of a bigger vector space. Row and column matrices are represented by a single column or single row. So with that being, the shape of row matrices would be $1 \\times j$ and column matrices would be $i \\times 1$."
      ]
    },
    {
      "cell_type": "code",
      "metadata": {
        "id": "piQNV5ZP8zp5",
        "colab": {
          "base_uri": "https://localhost:8080/"
        },
        "outputId": "c5965fa2-40db-4b60-aa32-2368a0135ecb"
      },
      "source": [
        "## Declaring a Row Matrix\n",
        "\n",
        "row_mat_1D = np.array([1, 3, 2]) ## this is a 1-D Matrix with a shape of (3,), it's not really considered as a row matrix.\n",
        "row_mat_2D = np.array([\n",
        "    [1,3,2]\n",
        "]) ## this is a 2-D Matrix with a shape of (1,3)\n",
        "describe_mat(row_mat_1D)\n",
        "describe_mat(row_mat_2D)"
      ],
      "execution_count": null,
      "outputs": [
        {
          "output_type": "stream",
          "text": [
            "Matrix:\n",
            "[1 3 2]\n",
            "\n",
            "Shape:\t(3,)\n",
            "Rank:\t1\n",
            "\n",
            "Matrix:\n",
            "[[1 3 2]]\n",
            "\n",
            "Shape:\t(1, 3)\n",
            "Rank:\t2\n",
            "\n"
          ],
          "name": "stdout"
        }
      ]
    },
    {
      "cell_type": "code",
      "metadata": {
        "id": "SIAbgRbbAa_f",
        "colab": {
          "base_uri": "https://localhost:8080/"
        },
        "outputId": "f022163f-f0b7-479a-9ac5-58d1825e332e"
      },
      "source": [
        "## Declaring a Column Matrix\n",
        "\n",
        "col_mat = np.array([\n",
        "    [1],\n",
        "    [3],\n",
        "    [2]\n",
        "]) ## this is a 2-D Matrix with a shape of (3,1)\n",
        "describe_mat(col_mat)"
      ],
      "execution_count": null,
      "outputs": [
        {
          "output_type": "stream",
          "text": [
            "Matrix:\n",
            "[[1]\n",
            " [3]\n",
            " [2]]\n",
            "\n",
            "Shape:\t(3, 1)\n",
            "Rank:\t2\n",
            "\n"
          ],
          "name": "stdout"
        }
      ]
    },
    {
      "cell_type": "markdown",
      "metadata": {
        "id": "jTTG0XzKA0dF"
      },
      "source": [
        "#####**Square Matrices**<br>\n",
        "Square matrices are matrices that have the same row and column sizes. We could say a matrix is square if $i = j$. We can tweak our matrix descriptor function to determine square matrices."
      ]
    },
    {
      "cell_type": "code",
      "metadata": {
        "id": "r8bjazogA0HI"
      },
      "source": [
        "def describe_mat(matrix):\n",
        "    is_square = True if matrix.shape[0] == matrix.shape[1] else False \n",
        "    print(f'Matrix:\\n{matrix}\\n\\nShape:\\t{matrix.shape}\\nRank:\\t{matrix.ndim}\\nIs Square: {is_square}\\n')"
      ],
      "execution_count": null,
      "outputs": []
    },
    {
      "cell_type": "code",
      "metadata": {
        "id": "fKr4xQzBA8-b",
        "colab": {
          "base_uri": "https://localhost:8080/"
        },
        "outputId": "fb883971-7934-4b64-d2af-6054358e633f"
      },
      "source": [
        "square_mat = np.array([\n",
        "    [1,2,5],\n",
        "    [3,3,8],\n",
        "    [6,1,2]\n",
        "])\n",
        "\n",
        "non_square_mat = np.array([\n",
        "    [1,2,5],\n",
        "    [3,3,8]\n",
        "])\n",
        "describe_mat(square_mat)\n",
        "describe_mat(non_square_mat)"
      ],
      "execution_count": null,
      "outputs": [
        {
          "output_type": "stream",
          "text": [
            "Matrix:\n",
            "[[1 2 5]\n",
            " [3 3 8]\n",
            " [6 1 2]]\n",
            "\n",
            "Shape:\t(3, 3)\n",
            "Rank:\t2\n",
            "Is Square: True\n",
            "\n",
            "Matrix:\n",
            "[[1 2 5]\n",
            " [3 3 8]]\n",
            "\n",
            "Shape:\t(2, 3)\n",
            "Rank:\t2\n",
            "Is Square: False\n",
            "\n"
          ],
          "name": "stdout"
        }
      ]
    },
    {
      "cell_type": "markdown",
      "metadata": {
        "id": "XkOyUUCOBAKz"
      },
      "source": [
        "####**According to element values**<br>\n",
        "<br>\n"
      ]
    },
    {
      "cell_type": "markdown",
      "metadata": {
        "id": "SMX8TYrFBjP7"
      },
      "source": [
        "#####**Null Matrix** \n",
        "A Null Matrix is a matrix that has no elements. It is always a subspace of any vector or matrix."
      ]
    },
    {
      "cell_type": "code",
      "metadata": {
        "id": "eCZCHKB8BOeH",
        "colab": {
          "base_uri": "https://localhost:8080/"
        },
        "outputId": "4459039a-ee96-46a0-e5ce-400b74d55c3e"
      },
      "source": [
        "null_mat = np.array([])\n",
        "null_mat"
      ],
      "execution_count": null,
      "outputs": [
        {
          "output_type": "execute_result",
          "data": {
            "text/plain": [
              "array([], dtype=float64)"
            ]
          },
          "metadata": {
            "tags": []
          },
          "execution_count": 9
        }
      ]
    },
    {
      "cell_type": "markdown",
      "metadata": {
        "id": "TK23nIefBRe6"
      },
      "source": [
        "#####**Zero Matrix**\n",
        "A zero matrix can be any rectangular matrix but with all elements having a value of 0."
      ]
    },
    {
      "cell_type": "code",
      "metadata": {
        "id": "Vwfr4dXSBraK",
        "colab": {
          "base_uri": "https://localhost:8080/"
        },
        "outputId": "9f862748-0feb-4f9e-98cf-36f379d9834c"
      },
      "source": [
        "zero_mat_row = np.zeros((1,2))\n",
        "zero_mat_sqr = np.zeros((2,2))\n",
        "zero_mat_rct = np.zeros((3,2))\n",
        "\n",
        "print(f'Zero Row Matrix: \\n{zero_mat_row}')\n",
        "print(f'Zero Square Matrix: \\n{zero_mat_sqr}')\n",
        "print(f'Zero Rectangular Matrix: \\n{zero_mat_rct}')"
      ],
      "execution_count": null,
      "outputs": [
        {
          "output_type": "stream",
          "text": [
            "Zero Row Matrix: \n",
            "[[0. 0.]]\n",
            "Zero Square Matrix: \n",
            "[[0. 0.]\n",
            " [0. 0.]]\n",
            "Zero Rectangular Matrix: \n",
            "[[0. 0.]\n",
            " [0. 0.]\n",
            " [0. 0.]]\n"
          ],
          "name": "stdout"
        }
      ]
    },
    {
      "cell_type": "markdown",
      "metadata": {
        "id": "V3bBrIs5Bvlg"
      },
      "source": [
        "#####**Ones Matrix**\n",
        "A ones matrix, just like the zero matrix, can be any rectangular matrix but all of its elements are 1s instead of 0s."
      ]
    },
    {
      "cell_type": "code",
      "metadata": {
        "id": "PQasP8bVBy0p",
        "colab": {
          "base_uri": "https://localhost:8080/"
        },
        "outputId": "f8ea89a4-6171-4d24-9cd6-b4f61e19300b"
      },
      "source": [
        "ones_mat_row = np.ones((1,2))\n",
        "ones_mat_sqr = np.ones((2,2))\n",
        "ones_mat_rct = np.ones((3,2))\n",
        "\n",
        "print(f'Ones Row Matrix: \\n{ones_mat_row}')\n",
        "print(f'Ones Square Matrix: \\n{ones_mat_sqr}')\n",
        "print(f'Ones Rectangular Matrix: \\n{ones_mat_rct}')"
      ],
      "execution_count": null,
      "outputs": [
        {
          "output_type": "stream",
          "text": [
            "Ones Row Matrix: \n",
            "[[1. 1.]]\n",
            "Ones Square Matrix: \n",
            "[[1. 1.]\n",
            " [1. 1.]]\n",
            "Ones Rectangular Matrix: \n",
            "[[1. 1.]\n",
            " [1. 1.]\n",
            " [1. 1.]]\n"
          ],
          "name": "stdout"
        }
      ]
    },
    {
      "cell_type": "markdown",
      "metadata": {
        "id": "BIyuXDcJB2Te"
      },
      "source": [
        "#####**Diagonal Matrix**\n",
        "A diagonal matrix is a square matrix that has values only at the diagonal of the matrix."
      ]
    },
    {
      "cell_type": "code",
      "metadata": {
        "id": "djhesnUvB85I",
        "colab": {
          "base_uri": "https://localhost:8080/"
        },
        "outputId": "cce0a40b-9278-4c18-9003-d5b9ca3c8494"
      },
      "source": [
        "\n",
        "np.array([\n",
        "    [2,0,0],\n",
        "    [0,3,0],\n",
        "    [0,0,5]\n",
        "])"
      ],
      "execution_count": null,
      "outputs": [
        {
          "output_type": "execute_result",
          "data": {
            "text/plain": [
              "array([[2, 0, 0],\n",
              "       [0, 3, 0],\n",
              "       [0, 0, 5]])"
            ]
          },
          "metadata": {
            "tags": []
          },
          "execution_count": 12
        }
      ]
    },
    {
      "cell_type": "code",
      "metadata": {
        "id": "Yapq1BTKB8EF",
        "colab": {
          "base_uri": "https://localhost:8080/"
        },
        "outputId": "28531dad-a57d-4ba1-b8ef-b1472f3b0b8e"
      },
      "source": [
        "np.diag([2,3,5])"
      ],
      "execution_count": null,
      "outputs": [
        {
          "output_type": "execute_result",
          "data": {
            "text/plain": [
              "array([[2, 0, 0],\n",
              "       [0, 3, 0],\n",
              "       [0, 0, 5]])"
            ]
          },
          "metadata": {
            "tags": []
          },
          "execution_count": 13
        }
      ]
    },
    {
      "cell_type": "markdown",
      "metadata": {
        "id": "YLSC7L2gDX0G"
      },
      "source": [
        "#####**Identity Matrix**\n",
        "An identity matrix is a special diagonal matrix in which the values at the diagonal are ones."
      ]
    },
    {
      "cell_type": "code",
      "metadata": {
        "id": "66GONmJZEIbC",
        "colab": {
          "base_uri": "https://localhost:8080/"
        },
        "outputId": "41b4badb-dedc-429c-8848-759e0152329e"
      },
      "source": [
        "np.eye(3)"
      ],
      "execution_count": null,
      "outputs": [
        {
          "output_type": "execute_result",
          "data": {
            "text/plain": [
              "array([[1., 0., 0.],\n",
              "       [0., 1., 0.],\n",
              "       [0., 0., 1.]])"
            ]
          },
          "metadata": {
            "tags": []
          },
          "execution_count": 14
        }
      ]
    },
    {
      "cell_type": "code",
      "metadata": {
        "id": "xV618G9_ENm6",
        "colab": {
          "base_uri": "https://localhost:8080/"
        },
        "outputId": "bad0b053-c855-468a-da4b-09657ba387b1"
      },
      "source": [
        "np.identity(3)"
      ],
      "execution_count": null,
      "outputs": [
        {
          "output_type": "execute_result",
          "data": {
            "text/plain": [
              "array([[1., 0., 0.],\n",
              "       [0., 1., 0.],\n",
              "       [0., 0., 1.]])"
            ]
          },
          "metadata": {
            "tags": []
          },
          "execution_count": 15
        }
      ]
    },
    {
      "cell_type": "markdown",
      "metadata": {
        "id": "MWMXQoLREfKS"
      },
      "source": [
        "#####**Upper Triangular Matrix**\n",
        "An upper triangular matrix is a matrix that has no values below the diagonal."
      ]
    },
    {
      "cell_type": "code",
      "metadata": {
        "id": "Sbmd4ciXEikS",
        "colab": {
          "base_uri": "https://localhost:8080/"
        },
        "outputId": "51f9119a-bf2d-4ec3-9a0d-e21d12a6b733"
      },
      "source": [
        "np.array([\n",
        "    [1,2,3],\n",
        "    [0,3,1],\n",
        "    [0,0,5]\n",
        "])"
      ],
      "execution_count": null,
      "outputs": [
        {
          "output_type": "execute_result",
          "data": {
            "text/plain": [
              "array([[1, 2, 3],\n",
              "       [0, 3, 1],\n",
              "       [0, 0, 5]])"
            ]
          },
          "metadata": {
            "tags": []
          },
          "execution_count": 16
        }
      ]
    },
    {
      "cell_type": "markdown",
      "metadata": {
        "id": "fUxwomeBEoHZ"
      },
      "source": [
        "#####**Lower Triangular Matrix**\n",
        "A lower triangular matrix is a matrix that has no values above the diagonal."
      ]
    },
    {
      "cell_type": "code",
      "metadata": {
        "id": "YURI2K5fEsgU",
        "colab": {
          "base_uri": "https://localhost:8080/"
        },
        "outputId": "d29a07e6-f039-4bd1-d23d-70b08f5e0e16"
      },
      "source": [
        "np.array([\n",
        "    [1,0,0],\n",
        "    [5,3,0],\n",
        "    [7,8,5]\n",
        "])"
      ],
      "execution_count": null,
      "outputs": [
        {
          "output_type": "execute_result",
          "data": {
            "text/plain": [
              "array([[1, 0, 0],\n",
              "       [5, 3, 0],\n",
              "       [7, 8, 5]])"
            ]
          },
          "metadata": {
            "tags": []
          },
          "execution_count": 17
        }
      ]
    },
    {
      "cell_type": "markdown",
      "metadata": {
        "id": "JXlGZ4dvFa4O"
      },
      "source": [
        "####**Practice**\n",
        "1. Given the linear combination below, try to create a corresponding matrix representing it.<br>\n",
        "\n",
        "\n",
        "\n",
        "\n",
        ">  $$\\theta = 5x + 3y - z$$\n",
        "\n",
        "\n",
        "\n",
        "\n",
        "\n"
      ]
    },
    {
      "cell_type": "code",
      "metadata": {
        "id": "A90yLCq3GMAn",
        "colab": {
          "base_uri": "https://localhost:8080/"
        },
        "outputId": "a6230b49-da27-48a7-b345-de56cf60adfe"
      },
      "source": [
        "row_mat_1D = np.array([5,3,-1])\n",
        "row_mat_1D"
      ],
      "execution_count": null,
      "outputs": [
        {
          "output_type": "execute_result",
          "data": {
            "text/plain": [
              "array([ 5,  3, -1])"
            ]
          },
          "metadata": {
            "tags": []
          },
          "execution_count": 36
        }
      ]
    },
    {
      "cell_type": "markdown",
      "metadata": {
        "id": "0q5yGgdxOtg7"
      },
      "source": [
        "2. Given the system of linear combinations below, try to encode it as a matrix. Also describe the matrix.\n",
        "$$ A = \\left\\{\\begin{array} 5x_1 + 2x_2 +x_3\\\\ 4x_2 - x_3\\\\ 10x_3 \\end{array}\\right. $$"
      ]
    },
    {
      "cell_type": "code",
      "metadata": {
        "id": "Bg6u3GV9OxkS",
        "colab": {
          "base_uri": "https://localhost:8080/"
        },
        "outputId": "cc2c59a1-febc-432b-a0e8-2a0dbf72ce0d"
      },
      "source": [
        "A = np.array([\n",
        "    [1, 2, 1],\n",
        "    [0, 4, -1],\n",
        "    [0 , 0, -10]\n",
        "])\n",
        "describe_mat(A)"
      ],
      "execution_count": null,
      "outputs": [
        {
          "output_type": "stream",
          "text": [
            "Matrix:\n",
            "[[  1   2   1]\n",
            " [  0   4  -1]\n",
            " [  0   0 -10]]\n",
            "\n",
            "Shape:\t(3, 3)\n",
            "Rank:\t2\n",
            "Is Square: True\n",
            "\n"
          ],
          "name": "stdout"
        }
      ]
    },
    {
      "cell_type": "markdown",
      "metadata": {
        "id": "rM446mdpWkzj"
      },
      "source": [
        "A has 3 linear equations consists of row and column. There are 3 x sub values x sub 1 to x sub 3. Every x has a value since in algebra the value of x is 1 and the other one that has no value I put a 0 or null. Null is no value. "
      ]
    },
    {
      "cell_type": "markdown",
      "metadata": {
        "id": "3Mbmi7T4ciBD"
      },
      "source": [
        "3. Given the matrix below, express it as a linear combination in a markdown.<br>\n"
      ]
    },
    {
      "cell_type": "code",
      "metadata": {
        "id": "bRp3vz6vcyT9",
        "colab": {
          "base_uri": "https://localhost:8080/"
        },
        "outputId": "8acdea2e-e735-4863-d95f-630284aebfd8"
      },
      "source": [
        "G = np.array([\n",
        "    [1,7,8],\n",
        "    [2,2,2],\n",
        "    [4,6,7]\n",
        "])\n",
        "G = np.diag(G)\n",
        "G"
      ],
      "execution_count": null,
      "outputs": [
        {
          "output_type": "execute_result",
          "data": {
            "text/plain": [
              "array([1, 2, 7])"
            ]
          },
          "metadata": {
            "tags": []
          },
          "execution_count": 38
        }
      ]
    },
    {
      "cell_type": "markdown",
      "metadata": {
        "id": "2MjKYh0lc0I3"
      },
      "source": [
        "$$ G = \\left\\{ \\begin{array}\\\\ x+7y+8z \\\\ 2x +2y +2z \\\\ 4x + 6y +7z \\end{array} \\right. $$"
      ]
    },
    {
      "cell_type": "markdown",
      "metadata": {
        "id": "A_r8VS3Ecpd1"
      },
      "source": [
        "4. Given the matrix below, display the output as a LaTeX makdown also express it as a system of linear combinations."
      ]
    },
    {
      "cell_type": "code",
      "metadata": {
        "id": "NCPpUrTBeg2f",
        "colab": {
          "base_uri": "https://localhost:8080/"
        },
        "outputId": "75f018c8-ddbb-4aaa-d3bd-9987ab981223"
      },
      "source": [
        "H = np.tril(G)\n",
        "H"
      ],
      "execution_count": null,
      "outputs": [
        {
          "output_type": "execute_result",
          "data": {
            "text/plain": [
              "array([[1, 0, 0],\n",
              "       [1, 2, 0],\n",
              "       [1, 2, 7]])"
            ]
          },
          "metadata": {
            "tags": []
          },
          "execution_count": 39
        }
      ]
    },
    {
      "cell_type": "markdown",
      "metadata": {
        "id": "_xIK751VenqL"
      },
      "source": [
        "$$ G = \\left\\{ \\begin{array}\\\\ 1x_1 \\\\ x_1 +2x_2  \\\\ 1x_1 + 2x_2 +7x_3 \\end{array} \\right. $$"
      ]
    },
    {
      "cell_type": "markdown",
      "metadata": {
        "id": "do_k0F-5UIaq"
      },
      "source": [
        "###**Activity**<br><br>\n",
        "**Task 1**<br>\n",
        "Create a function named mat_desc() that througouhly describes a matrix, it should:\n",
        "\n",
        "1. Displays the shape, size, and rank of the matrix.\n",
        "2. Displays whether the matrix is square or non-square.\n",
        "3. Displays whether the matrix is an empty matrix.\n",
        "4. Displays if the matrix is an identity, ones, or zeros matrix<br>\n",
        "\n",
        "Use 5 sample matrices in which their shapes are not lower than $(3,3)$. In your methodology, create a flowchart discuss the functions and methods you have done. Present your results in the results section showing the description of each matrix you have declared."
      ]
    },
    {
      "cell_type": "markdown",
      "metadata": {
        "id": "7CMzgP1Ui7Vw"
      },
      "source": [
        "#**Latex Form**\n",
        "$$ A=\\begin{bmatrix} -1 & 2 & 1 & -2 \\\\ 2 & -4 & -2 & 4 \\\\ 3 & 2 & -2 & -3 \\\\ -5 & 4 & -4 & 5\\end{bmatrix} \\\\ $$<br>\n",
        "\n",
        "$$ B=\\begin{bmatrix} 2 & 3 & 4 \\\\ 1 & 2 & -3 \\\\ 3 & -1 & 3\\end{bmatrix} \\\\ $$<br>\n",
        "\n",
        "$$ C=\\begin{bmatrix} 10 & 0 & 10 & 0 \\\\ 0 & -10 & 0 & -10 \\\\ 10 & 0 & 10 & 0\\end{bmatrix} \\\\ $$<br>\n",
        "\n",
        "$$ D=\\begin{bmatrix} 0.01 & -2 & 7 \\\\ 4 & -1.50 & 1.45 \\\\ -1.3 & 2 & 5.25 \\\\ 2.5 & 1.5 & -2.75 \\end{bmatrix} \\\\ $$<br>\n",
        "\n",
        "$$ E=\\begin{bmatrix} 0 & 0 & 0 \\\\ 0 & 0 & 0 \\\\ 0 & 0 & 0 \\\\ 0 & 0 & 0 \\\\ 0 & 0 & 0 \\end{bmatrix} \\\\ $$<br>\n",
        "\n"
      ]
    },
    {
      "cell_type": "code",
      "metadata": {
        "id": "_gCxNWoUUYER"
      },
      "source": [
        "##Function Area\n",
        "def mat_desc(matrix): \n",
        "  is_square = True if matrix.shape[0] == matrix.shape[1] else False \n",
        "  is_empty = matrix.size == 0\n",
        "  is_zeros_matrix=np.count_nonzero(matrix) == 0\n",
        "  is_ones_matrix = np.ones(matrix.shape,dtype = int).all() == matrix.all()\n",
        "  is_identity = (matrix.shape[0] == matrix.shape[1]) and np.allclose(matrix, np.eye(matrix.shape[0]))\n",
        "  print(f'Matrix:\\n{matrix}\\n\\nShape:\\t{matrix.shape}\\nRank:\\t{matrix.ndim}\\nIs Square: {is_square}\\nIs Empty: {is_empty}\\nIs Zeros Matrix:{is_zeros_matrix}\\nIs Ones Matrix: {is_ones_matrix}\\nIs Identity Matrix:{is_identity}')"
      ],
      "execution_count": 3,
      "outputs": []
    },
    {
      "cell_type": "code",
      "metadata": {
        "id": "Hd24bGoYUbMB"
      },
      "source": [
        "## Matrix declarations\n",
        "A = np.array([\n",
        "              [-1, 2, 1, -2],\n",
        "              [2, -4, -2, 4],\n",
        "              [3, 2, -2, -3],\n",
        "              [-5, 4, -4, 5]\n",
        "])\n",
        "\n",
        "B = np.array([\n",
        "              [2, 3, 4],\n",
        "              [1, 2, -3],\n",
        "              [3, -1, 3]\n",
        "])\n",
        "\n",
        "C = np.array([\n",
        "              [10, 0, 10, 0],\n",
        "              [0, -10, 0, -10],\n",
        "              [10, 0, 10, 0]\n",
        "])\n",
        "\n",
        "D = np.array([\n",
        "              [0.01, -2, 7],\n",
        "              [-4, -1.50, 1.45],\n",
        "              [-1.3, 2, 5.25],\n",
        "              [2.5, 1.5, -2.75]\n",
        "])\n",
        "\n",
        "E = np.array([\n",
        "              [0, 0, 0],\n",
        "              [0, 0, 0],\n",
        "              [0, 0, 0],\n",
        "              [0, 0, 0],\n",
        "              [0, 0, 0]\n",
        "])"
      ],
      "execution_count": 4,
      "outputs": []
    },
    {
      "cell_type": "code",
      "metadata": {
        "id": "l4XIspj-UfwF",
        "colab": {
          "base_uri": "https://localhost:8080/"
        },
        "outputId": "8a4e3ebd-6493-46c3-a33f-72b8d1276d75"
      },
      "source": [
        "## Test Areas\n",
        "mat_desc(A)"
      ],
      "execution_count": null,
      "outputs": [
        {
          "output_type": "stream",
          "text": [
            "Matrix:\n",
            "[[-1  2  1 -2]\n",
            " [ 2 -4 -2  4]\n",
            " [ 3  2 -2 -3]\n",
            " [-5  4 -4  5]]\n",
            "\n",
            "Shape:\t(4, 4)\n",
            "Rank:\t2\n",
            "Is Square: True\n",
            "Is Empty: False\n",
            "Is Zeros Matrix:False\n",
            "Is Ones Matrix: True\n",
            "Is Identity Matrix:False\n"
          ],
          "name": "stdout"
        }
      ]
    },
    {
      "cell_type": "code",
      "metadata": {
        "id": "06igLUjd1AHD",
        "colab": {
          "base_uri": "https://localhost:8080/"
        },
        "outputId": "2d9c1ef4-7270-481b-e874-0a11cba838c7"
      },
      "source": [
        "mat_desc(B)"
      ],
      "execution_count": null,
      "outputs": [
        {
          "output_type": "stream",
          "text": [
            "Matrix:\n",
            "[[ 2  3  4]\n",
            " [ 1  2 -3]\n",
            " [ 3 -1  3]]\n",
            "\n",
            "Shape:\t(3, 3)\n",
            "Rank:\t2\n",
            "Is Square: True\n",
            "Is Empty: False\n",
            "Is Zeros Matrix:False\n",
            "Is Ones Matrix: True\n",
            "Is Identity Matrix:False\n"
          ],
          "name": "stdout"
        }
      ]
    },
    {
      "cell_type": "code",
      "metadata": {
        "id": "wBoxclFCxJRu",
        "colab": {
          "base_uri": "https://localhost:8080/"
        },
        "outputId": "0d0be260-4397-48a4-d8d0-df20f0dbdf9e"
      },
      "source": [
        "mat_desc(C)"
      ],
      "execution_count": null,
      "outputs": [
        {
          "output_type": "stream",
          "text": [
            "Matrix:\n",
            "[[ 10   0  10   0]\n",
            " [  0 -10   0 -10]\n",
            " [ 10   0  10   0]]\n",
            "\n",
            "Shape:\t(3, 4)\n",
            "Rank:\t2\n",
            "Is Square: False\n",
            "Is Empty: False\n",
            "Is Zeros Matrix:False\n",
            "Is Ones Matrix: False\n",
            "Is Identity Matrix:False\n"
          ],
          "name": "stdout"
        }
      ]
    },
    {
      "cell_type": "code",
      "metadata": {
        "id": "4w-1gFNBx4V6",
        "colab": {
          "base_uri": "https://localhost:8080/"
        },
        "outputId": "f4280533-132b-402a-aa05-e5dfcf9d6d98"
      },
      "source": [
        "mat_desc(D)"
      ],
      "execution_count": null,
      "outputs": [
        {
          "output_type": "stream",
          "text": [
            "Matrix:\n",
            "[[ 0.01 -2.    7.  ]\n",
            " [-4.   -1.5   1.45]\n",
            " [-1.3   2.    5.25]\n",
            " [ 2.5   1.5  -2.75]]\n",
            "\n",
            "Shape:\t(4, 3)\n",
            "Rank:\t2\n",
            "Is Square: False\n",
            "Is Empty: False\n",
            "Is Zeros Matrix:False\n",
            "Is Ones Matrix: True\n",
            "Is Identity Matrix:False\n"
          ],
          "name": "stdout"
        }
      ]
    },
    {
      "cell_type": "code",
      "metadata": {
        "id": "4mYTVfnQyPLa",
        "colab": {
          "base_uri": "https://localhost:8080/"
        },
        "outputId": "09f6b39d-0b29-482c-a383-da001b03154e"
      },
      "source": [
        "mat_desc(E)"
      ],
      "execution_count": null,
      "outputs": [
        {
          "output_type": "stream",
          "text": [
            "Matrix:\n",
            "[[0 0 0]\n",
            " [0 0 0]\n",
            " [0 0 0]\n",
            " [0 0 0]\n",
            " [0 0 0]]\n",
            "\n",
            "Shape:\t(5, 3)\n",
            "Rank:\t2\n",
            "Is Square: False\n",
            "Is Empty: False\n",
            "Is Zeros Matrix:True\n",
            "Is Ones Matrix: False\n",
            "Is Identity Matrix:False\n"
          ],
          "name": "stdout"
        }
      ]
    },
    {
      "cell_type": "markdown",
      "metadata": {
        "id": "hGSu9niyUh4J"
      },
      "source": [
        "**Task 2**<br>\n",
        "Create a function named mat_operations() that takes in two matrices or scalars a input parameters it should:\n",
        "\n",
        "1. Display the description of each matrix, if the parameter is a scalar it tells that it is a scalar rather than describing it as a matrix.\n",
        "2. Determines if the matrices are viable for operation and returns your own error message if they are not viable.\n",
        "3. Returns the sum of the matrices.\n",
        "4. Returns the differen of the matrices.\n",
        "5. Returns the element-wise multiplication of the matrices.\n",
        "6. Returns the element-wise division of the matrices.<br>\n",
        "Use 5 sample matrices in which their shapes are not lower than $(3,3)$. In your methodology, create a flowchart discuss the functions and methods you have done. Present your results in the results section showing the description of each matrix you have declared."
      ]
    },
    {
      "cell_type": "code",
      "metadata": {
        "id": "zbppIlsAUxgp"
      },
      "source": [
        "np.seterr(divide='ignore', invalid='ignore')\n",
        "A = np.array([\n",
        "    [1, -1, -1],\n",
        "    [-1, 1, -1],\n",
        "    [-1, -1, 1]\n",
        "])\n",
        " \n",
        "B = np.array([\n",
        "    [2, -1, -1],\n",
        "    [-1, 2, -1],\n",
        "    [-1, -1, 2]\n",
        "])\n",
        "\n",
        "C = np.array([\n",
        "    [3, -1, -1],\n",
        "    [-1, 3, -1],\n",
        "    [-1, -1, 3]\n",
        "])\n",
        "\n",
        "D = np.array([\n",
        "    [4, -1, -1],\n",
        "    [-1, 4, -1],\n",
        "    [-1, -1, 4]\n",
        "])\n",
        "\n",
        "E = np.array([\n",
        "    [5, -1, -1],\n",
        "    [-1, 5, -1],\n",
        "    [-1, -1, 5]\n",
        "])\n",
        "def isScalarMatrix(mat) : \n",
        "\t# Check all elements \n",
        "\t# except main diagonal are \n",
        "\t# zero or not. \n",
        "\tfor i in range(0,len(mat[0])) : \n",
        "\t\tfor j in range(0,len(mat[0])) : \n",
        "\t\t\tif ((i != j) \n",
        "\t\t\tand (mat[i][j] != 0)) : \n",
        "\t\t\t\treturn False\n",
        "\t# Check all diagonal \n",
        "\t# elements are same or not. \n",
        "\tfor i in range(0,len(mat[0])-1) : \n",
        "\t\tif (mat[i][i] !=\n",
        "\t\tmat[i + 1][i + 1]) : \n",
        "\t\t\treturn False\n",
        "\treturn True\n",
        " \n",
        " \n",
        "def mat_operations(matrix1, matrix2):\n",
        "    try:\n",
        "      name = \"\"\n",
        " \n",
        "      if(isScalarMatrix(matrix1) and isScalarMatrix(matrix2)):\n",
        "          name = \"Scalar\"\n",
        "      else:\n",
        "          name = \"Matrix\"\n",
        " \n",
        "      sum = matrix1 + matrix2\n",
        "      difference = matrix1 - matrix2\n",
        "      product = np.multiply(matrix1,matrix2)\n",
        "      quotient = np.divide(matrix1,matrix2)\n",
        "      print(f'Sum of {name}:\\n{sum}')\n",
        "      print(f'Difference of {name}:\\n{difference}')\n",
        "      print(f'Product of {name}:\\n{product}')\n",
        "      print(f'Quotient of {name}:\\n{quotient}')\n",
        "    except:\n",
        "      print(\"Matrices are not viable for operations\")\n",
        " \n",
        " \n"
      ],
      "execution_count": 6,
      "outputs": []
    },
    {
      "cell_type": "code",
      "metadata": {
        "id": "w74sJBCwhz93",
        "colab": {
          "base_uri": "https://localhost:8080/"
        },
        "outputId": "f3636a59-b00d-405c-99c3-b620df416122"
      },
      "source": [
        "mat_operations(A, B)"
      ],
      "execution_count": 7,
      "outputs": [
        {
          "output_type": "stream",
          "text": [
            "Sum of Matrix:\n",
            "[[ 3 -2 -2]\n",
            " [-2  3 -2]\n",
            " [-2 -2  3]]\n",
            "Difference of Matrix:\n",
            "[[-1  0  0]\n",
            " [ 0 -1  0]\n",
            " [ 0  0 -1]]\n",
            "Product of Matrix:\n",
            "[[2 1 1]\n",
            " [1 2 1]\n",
            " [1 1 2]]\n",
            "Quotient of Matrix:\n",
            "[[0.5 1.  1. ]\n",
            " [1.  0.5 1. ]\n",
            " [1.  1.  0.5]]\n"
          ],
          "name": "stdout"
        }
      ]
    },
    {
      "cell_type": "code",
      "metadata": {
        "id": "Qbe8EkEwB-DT",
        "colab": {
          "base_uri": "https://localhost:8080/"
        },
        "outputId": "97fb5325-9dea-48f5-a917-9ced8886be2d"
      },
      "source": [
        "mat_operations(C,D)"
      ],
      "execution_count": 8,
      "outputs": [
        {
          "output_type": "stream",
          "text": [
            "Sum of Matrix:\n",
            "[[ 7 -2 -2]\n",
            " [-2  7 -2]\n",
            " [-2 -2  7]]\n",
            "Difference of Matrix:\n",
            "[[-1  0  0]\n",
            " [ 0 -1  0]\n",
            " [ 0  0 -1]]\n",
            "Product of Matrix:\n",
            "[[12  1  1]\n",
            " [ 1 12  1]\n",
            " [ 1  1 12]]\n",
            "Quotient of Matrix:\n",
            "[[0.75 1.   1.  ]\n",
            " [1.   0.75 1.  ]\n",
            " [1.   1.   0.75]]\n"
          ],
          "name": "stdout"
        }
      ]
    },
    {
      "cell_type": "code",
      "metadata": {
        "id": "82SG1WFUiRFP",
        "colab": {
          "base_uri": "https://localhost:8080/"
        },
        "outputId": "69cdbc32-700c-4ac3-9a2f-e25e50123106"
      },
      "source": [
        "mat_operations(D, A)"
      ],
      "execution_count": 9,
      "outputs": [
        {
          "output_type": "stream",
          "text": [
            "Sum of Matrix:\n",
            "[[ 5 -2 -2]\n",
            " [-2  5 -2]\n",
            " [-2 -2  5]]\n",
            "Difference of Matrix:\n",
            "[[3 0 0]\n",
            " [0 3 0]\n",
            " [0 0 3]]\n",
            "Product of Matrix:\n",
            "[[4 1 1]\n",
            " [1 4 1]\n",
            " [1 1 4]]\n",
            "Quotient of Matrix:\n",
            "[[4. 1. 1.]\n",
            " [1. 4. 1.]\n",
            " [1. 1. 4.]]\n"
          ],
          "name": "stdout"
        }
      ]
    },
    {
      "cell_type": "code",
      "metadata": {
        "id": "IHFRZgWQ7zVQ",
        "colab": {
          "base_uri": "https://localhost:8080/"
        },
        "outputId": "c3d8454e-bf04-433b-8e6a-c21733ef8ce0"
      },
      "source": [
        "mat_operations(B, C)"
      ],
      "execution_count": 10,
      "outputs": [
        {
          "output_type": "stream",
          "text": [
            "Sum of Matrix:\n",
            "[[ 5 -2 -2]\n",
            " [-2  5 -2]\n",
            " [-2 -2  5]]\n",
            "Difference of Matrix:\n",
            "[[-1  0  0]\n",
            " [ 0 -1  0]\n",
            " [ 0  0 -1]]\n",
            "Product of Matrix:\n",
            "[[6 1 1]\n",
            " [1 6 1]\n",
            " [1 1 6]]\n",
            "Quotient of Matrix:\n",
            "[[0.66666667 1.         1.        ]\n",
            " [1.         0.66666667 1.        ]\n",
            " [1.         1.         0.66666667]]\n"
          ],
          "name": "stdout"
        }
      ]
    },
    {
      "cell_type": "code",
      "metadata": {
        "colab": {
          "base_uri": "https://localhost:8080/"
        },
        "id": "GGYKFBAmRTKR",
        "outputId": "85775d30-f10f-434f-b463-4fa26617f41c"
      },
      "source": [
        "isScalarMatrix(A)"
      ],
      "execution_count": 11,
      "outputs": [
        {
          "output_type": "execute_result",
          "data": {
            "text/plain": [
              "False"
            ]
          },
          "metadata": {
            "tags": []
          },
          "execution_count": 11
        }
      ]
    },
    {
      "cell_type": "code",
      "metadata": {
        "colab": {
          "base_uri": "https://localhost:8080/"
        },
        "id": "WGnElriCRWag",
        "outputId": "1923d98b-0432-4b3f-e9b2-2e95e68a63d1"
      },
      "source": [
        "isScalarMatrix(B)"
      ],
      "execution_count": 12,
      "outputs": [
        {
          "output_type": "execute_result",
          "data": {
            "text/plain": [
              "False"
            ]
          },
          "metadata": {
            "tags": []
          },
          "execution_count": 12
        }
      ]
    },
    {
      "cell_type": "code",
      "metadata": {
        "colab": {
          "base_uri": "https://localhost:8080/"
        },
        "id": "fZfk8IrgRYho",
        "outputId": "7fb9d410-0887-4250-8466-8d2f521eedab"
      },
      "source": [
        "isScalarMatrix(C)"
      ],
      "execution_count": 13,
      "outputs": [
        {
          "output_type": "execute_result",
          "data": {
            "text/plain": [
              "False"
            ]
          },
          "metadata": {
            "tags": []
          },
          "execution_count": 13
        }
      ]
    },
    {
      "cell_type": "code",
      "metadata": {
        "colab": {
          "base_uri": "https://localhost:8080/"
        },
        "id": "vAJeZ0FGRaWY",
        "outputId": "691f0221-6ba6-44e3-b4cb-024e868ad89b"
      },
      "source": [
        "isScalarMatrix(D)"
      ],
      "execution_count": 14,
      "outputs": [
        {
          "output_type": "execute_result",
          "data": {
            "text/plain": [
              "False"
            ]
          },
          "metadata": {
            "tags": []
          },
          "execution_count": 14
        }
      ]
    },
    {
      "cell_type": "code",
      "metadata": {
        "colab": {
          "base_uri": "https://localhost:8080/"
        },
        "id": "XwS-JpNORcsh",
        "outputId": "a0f0e7f9-9348-498c-8146-85755e149e83"
      },
      "source": [
        "isScalarMatrix(E)"
      ],
      "execution_count": 15,
      "outputs": [
        {
          "output_type": "execute_result",
          "data": {
            "text/plain": [
              "False"
            ]
          },
          "metadata": {
            "tags": []
          },
          "execution_count": 15
        }
      ]
    }
  ]
}