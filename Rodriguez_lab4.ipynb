{
  "nbformat": 4,
  "nbformat_minor": 0,
  "metadata": {
    "colab": {
      "name": "Rodriguez_lab4.ipynb",
      "provenance": [],
      "collapsed_sections": []
    },
    "kernelspec": {
      "name": "python3",
      "display_name": "Python 3"
    }
  },
  "cells": [
    {
      "cell_type": "markdown",
      "metadata": {
        "id": "0j6fFwkRVnm4"
      },
      "source": [
        "#**Linear Algebra for CpE**\n",
        "##**Laboratory 4 : Vector Operations** <br>\n",
        "Now that you have a fundamental knowledge about linear combination, we'll try to apply the fundamental operations<br>\n",
        "<br>\n",
        "######**Objectives**\n",
        "At the end of this activity you will be able to:\n",
        "1. Referesh knowledge on vector operations while being familiar with new operations such as products.\n",
        "2. Visualize vector operations.\n",
        "3. Perform vector operations using Python.\n",
        "\n"
      ]
    },
    {
      "cell_type": "markdown",
      "metadata": {
        "id": "MspXKpqDVlSo"
      },
      "source": [
        "#**Discussion**"
      ]
    },
    {
      "cell_type": "code",
      "metadata": {
        "id": "mMFUzajaVqcm"
      },
      "source": [
        "import numpy as np\n",
        "import matplotlib.pyplot as plt\n",
        "from numpy.linalg import norm\n",
        "%matplotlib inline"
      ],
      "execution_count": 5,
      "outputs": []
    },
    {
      "cell_type": "markdown",
      "metadata": {
        "id": "D8ZJA6yoVmcN"
      },
      "source": [
        "We have dealt with some of the vector operations in the last module, now we will dwell into more operations. In this laboratory, we will tackle addition,multiplication,division and the inner product of a vector."
      ]
    },
    {
      "cell_type": "markdown",
      "metadata": {
        "id": "_rXZRh2rV2si"
      },
      "source": [
        "##**Vector Addition**<br>\n",
        "We have encountered vector before especially with your last activity. Vector addition is simply the element-wise addition of the scalar values of the vectors. Let's take the following vectors as a sample:\n",
        "\n",
        "$$A = \\begin{bmatrix}1\\\\2\\\\0\\end{bmatrix}, B= \\begin{bmatrix}3\\\\1\\\\-2 \\end{bmatrix}$$\n",
        "So if do a vector addition of these two vectors we'll get:\n",
        "\n",
        "$$A + B = \\begin{bmatrix}4\\\\3\\\\-2\\end{bmatrix}$$\n",
        "We can progammatically solve this using np.add() or simply using +."
      ]
    },
    {
      "cell_type": "code",
      "metadata": {
        "id": "W-Ahhmr7VptS"
      },
      "source": [
        "A = np.array([1,2,0])\n",
        "B = np.array([3,1,-2])"
      ],
      "execution_count": null,
      "outputs": []
    },
    {
      "cell_type": "code",
      "metadata": {
        "id": "PXE54n2rWCMa"
      },
      "source": [
        "A+B"
      ],
      "execution_count": null,
      "outputs": []
    },
    {
      "cell_type": "code",
      "metadata": {
        "id": "txR8s1WnWElZ"
      },
      "source": [
        "np.add(A,B)"
      ],
      "execution_count": null,
      "outputs": []
    },
    {
      "cell_type": "markdown",
      "metadata": {
        "id": "xfhqKRMVWIJ6"
      },
      "source": [
        "##**Vector Subtraction**<br>\n",
        "Vector subtraction is similar to your vector addition but you would need to scale the second vector using a negative scalar that is usuall $-1$. So if we subtract vector $B$ from vector $A$ we get:\n",
        "\n",
        "$$A-B = \\begin{bmatrix}-2\\\\1\\\\2\\end{bmatrix}$$\n",
        "In Python, this can be achieved by using np.subtract() or -"
      ]
    },
    {
      "cell_type": "code",
      "metadata": {
        "id": "u0K7kRSJWwJA"
      },
      "source": [
        "np.subtract(A,B)"
      ],
      "execution_count": null,
      "outputs": []
    },
    {
      "cell_type": "code",
      "metadata": {
        "id": "ph7_pC4CW0Bu"
      },
      "source": [
        "A-B"
      ],
      "execution_count": null,
      "outputs": []
    },
    {
      "cell_type": "markdown",
      "metadata": {
        "id": "fo0wdyXhW3pQ"
      },
      "source": [
        "##**Vector Multiplication**<br>\n",
        "Vector multiplication, like addition does its operations element-wise. So basic vector multiplication can be achieved by multiplying the elements or the scalars of the vectors individually.\n",
        "So:$$A * B = \\begin{bmatrix}3\\\\2\\\\0\\end{bmatrix}$$We can implement this in code by using np.multiply() or simply operating with *."
      ]
    },
    {
      "cell_type": "code",
      "metadata": {
        "id": "IIefQMyLXFwa"
      },
      "source": [
        "np.multiply(A,B)"
      ],
      "execution_count": null,
      "outputs": []
    },
    {
      "cell_type": "code",
      "metadata": {
        "id": "nEDQLB30XIbe"
      },
      "source": [
        "A*B"
      ],
      "execution_count": null,
      "outputs": []
    },
    {
      "cell_type": "markdown",
      "metadata": {
        "id": "SL2ukWrfXLjA"
      },
      "source": [
        "##**Vector Division**<br>\n",
        "Dividing a vector by another is uncommon, but if the situation specifies that each elements or scalars of the vector would be divided individually we can perform this by:$$A./B = \\begin{bmatrix}\\frac{1}{3}\\\\2\\\\0\\end{bmatrix}$$Take note that the notation we used here is $./$ for element-wise division, this notation is based in a MATLab notation for element-wise division. This can be achieved in Python using np.divide() or /.\n",
        "\n"
      ]
    },
    {
      "cell_type": "code",
      "metadata": {
        "id": "eyqeJBYEXg_l"
      },
      "source": [
        "np.divide(A,B)"
      ],
      "execution_count": null,
      "outputs": []
    },
    {
      "cell_type": "code",
      "metadata": {
        "id": "jZEBmS8HXi6l"
      },
      "source": [
        "A/B"
      ],
      "execution_count": null,
      "outputs": []
    },
    {
      "cell_type": "markdown",
      "metadata": {
        "id": "mEBtxOgNXlNU"
      },
      "source": [
        "##**Modulus of a Vector**<br>\n",
        "The modulus of a vector or the magnitude of a vector can be determined using the Pythagorean theorem. Given the vector $A$ and its scalars denoted as $a_n$ where $n$ is the index of the scalar. So if we have:$$A = \\begin{bmatrix}1\\\\2\\end{bmatrix}$$We can compute the magnitude as:$$||A|| = \\sqrt{a_1^2 + a_2^2} = \\sqrt{1^2 + 2^2} = \\sqrt{5}$$So if we have a matrix with more parameters such as:$$B=\\begin{bmatrix}2\\\\5\\\\-1\\\\0\\end{bmatrix}$$We can generalize the Pythagorean theorem to compute for the magnitude as:$$||B|| = \\sqrt{b_1^2 + b_2^2 + b_3^2 + ... +b_n^2} = \\sqrt{\\sum_{n=1}^{N}b_n^2}$$And this equation is now called a Euclidian distance or the Euclidean Norm. We can implement this explicitly by for loops or using np.linalg.norm() to get the Euclidian Norm."
      ]
    },
    {
      "cell_type": "code",
      "metadata": {
        "id": "1-E_ocp4Xvu8"
      },
      "source": [
        "A = np.array([1,2])\n",
        "B = np.array([2,5,-1,0])"
      ],
      "execution_count": null,
      "outputs": []
    },
    {
      "cell_type": "code",
      "metadata": {
        "id": "MOsCn8S7X0x9"
      },
      "source": [
        "np.linalg.norm(A)"
      ],
      "execution_count": null,
      "outputs": []
    },
    {
      "cell_type": "code",
      "metadata": {
        "id": "qq_3GX8aX3cj"
      },
      "source": [
        "np.linalg.norm(B)"
      ],
      "execution_count": null,
      "outputs": []
    },
    {
      "cell_type": "markdown",
      "metadata": {
        "id": "FiIGzzQVhj8t"
      },
      "source": [
        "##**Vector Dot Product / Inner Product**<br>\n",
        "The inner product of a vector is the sum of the products of each elements of the vectors. So given vectors $H$ and $G$ below:$$H=\\begin{bmatrix}1\\\\3\\\\6\\end{bmatrix}, G = \\begin{bmatrix}5\\\\2\\\\1\\end{bmatrix}$$We first take the element-wise product of the vectors:$$H*G = \\begin{bmatrix}5\\\\6\\\\6\\end{bmatrix}$$Then we take the sum of the products, making it the inner product of a vector:$$H\\cdot G = 17$$You can solve for the inner product using an explicit function, np.inner() or the @ operator."
      ]
    },
    {
      "cell_type": "code",
      "metadata": {
        "id": "ezz20VENhzYV"
      },
      "source": [
        "H = np.array([1,3,6])\n",
        "G = np.array([5,2,1])"
      ],
      "execution_count": null,
      "outputs": []
    },
    {
      "cell_type": "code",
      "metadata": {
        "id": "z-uK8VVPh2eV"
      },
      "source": [
        "np.inner(H,G)"
      ],
      "execution_count": null,
      "outputs": []
    },
    {
      "cell_type": "code",
      "metadata": {
        "id": "hRnU6CHSh5D-"
      },
      "source": [
        "H @ G"
      ],
      "execution_count": null,
      "outputs": []
    },
    {
      "cell_type": "markdown",
      "metadata": {
        "id": "_irtVKH9iMXs"
      },
      "source": [
        "###**Activity**<br><br>\n",
        "**Task 1**<br>\n",
        "Make an explicit function (not using any of NumPy's preset functions) solving the modulus of a vector using the Euclidian Norm formula:$$||X|| = \\sqrt{\\sum_{n=1}^{N}x_n^2}$$Create a program flowchart for your algorithm and explain it in your methodology. Create 6 different vectors which their element count should not be lower than 4 elements. Explain the results at the results discussion section while comparing them to the np.linalg.norm() function."
      ]
    },
    {
      "cell_type": "code",
      "metadata": {
        "id": "EqiwZKFlEkEd"
      },
      "source": [
        "array1= np.array([3,4,5,6,7])\n",
        "array2= np.array([10,20,30,40,50])\n",
        "array3= np.array([10,9,8,7,6])\n",
        "array4= np.array([-2,-1,0,1,2])\n",
        "array5= np.array([3,6,9,1,2])\n",
        "array6= np.array([3.5,-6,9.02,-1,0])\n"
      ],
      "execution_count": 6,
      "outputs": []
    },
    {
      "cell_type": "markdown",
      "metadata": {
        "id": "hwnrCcrVbmye"
      },
      "source": [
        "**Using Euclidian Norm Formula**\n"
      ]
    },
    {
      "cell_type": "code",
      "metadata": {
        "id": "GB0zyKgr0vjr"
      },
      "source": [
        "import math\n",
        "def euclidean_norm(vector):\n",
        "    total = 0\n",
        "    for i in vector:\n",
        "        total = total + (i * i)\n",
        "    print(math.sqrt(total))"
      ],
      "execution_count": 65,
      "outputs": []
    },
    {
      "cell_type": "code",
      "metadata": {
        "id": "Tx3ZjBJ8q9YL"
      },
      "source": [
        "print (\"\\n-Array 1-\\n\")\n",
        "print (\"Using Linear Algebra function: \", np.linalg.norm(array1))\n",
        "#a=euclidean_norm(array1)\n",
        "print (\"Using Euclidian function     : \")\n",
        "euclidean_norm(array1)\n",
        "\n",
        "print (\"\\n-Array 2-\\n\")\n",
        "print (\"Using Linear Algebra function: \", np.linalg.norm(array2))\n",
        "b=euclidean_norm(array2)\n",
        "print (\"Using Euclidian function     : \")\n",
        "euclidean_norm(array2)\n",
        "\n",
        "print (\"\\n-Array 3-\\n\")\n",
        "print (\"Using Linear Algebra function: \", np.linalg.norm(array3))\n",
        "print (\"Using Euclidian function     : \")\n",
        "euclidean_norm(array3)\n",
        "\n",
        "print (\"\\n-Array 4-\\n\")\n",
        "print (\"Using Linear Algebra function: \", np.linalg.norm(array4))\n",
        "print (\"Using Euclidian function     : \", d)\n",
        "euclidean_norm(array4)\n",
        "\n",
        "print (\"\\n-Array 5-\\n\")\n",
        "print (\"Using Linear Algebra function: \", np.linalg.norm(array5))\n",
        "print (\"Using Euclidian function     : \", e)\n",
        "e=euclidean_norm(array5)\n",
        "\n",
        "print (\"\\n-Array 6-\\n\")\n",
        "print (\"Using Linear Algebra function: \", np.linalg.norm(array6))\n",
        "print (\"Using Euclidian function     : \", f)\n",
        "euclidean_norm(array6)"
      ],
      "execution_count": null,
      "outputs": []
    },
    {
      "cell_type": "markdown",
      "metadata": {
        "id": "wNXo9neXifGk"
      },
      "source": [
        "**Task 2**<br>\n",
        "Make an explicit function (not using any of NumPy's preset functions nor the @ operator) solving the inner product of two vectors using the inner product formula:$$A\\cdot B = \\sum_{n=1}^{N} a_n \\times b_n $$$$whereas: N = len(A) = len(B)$$Create a program flowchart for your algorithm and explain it in your methodology. Create 5 distinct pairs vectors which their element count should not be lower than 5 elements. Explain the results at the results discussion section while comparing them to the np.inner() function."
      ]
    },
    {
      "cell_type": "markdown",
      "metadata": {
        "id": "VroPlWexDKwn"
      },
      "source": [
        "**5 distinct pairs vectors** "
      ]
    },
    {
      "cell_type": "code",
      "metadata": {
        "id": "ERe95sMMDJfe"
      },
      "source": [
        "ArrayA_1 = np.array([-3,2,-1,0,-4,5])\n",
        "ArrayA_2 = np.array([10,-124,57,16,-0.7,9])\n",
        "\n",
        "ArrayB_1 = np.array([4,47,5,6,-53,0.45])\n",
        "ArrayB_2 = np.array([34,0.4,9.3,54,72,-27])\n",
        "\n",
        "ArrayC_1 = np.array([1,-5.01,-12,2,11,91.02])\n",
        "ArrayC_2 = np.array([100,125,12.5,10.5,-22,1])\n",
        "\n",
        "ArrayD_1 = np.array([1,0,1,0,1,0])\n",
        "ArrayD_2 = np.array([0,1,0,1,0,1])\n",
        "\n",
        "ArrayE_1 = np.array([-1,-2,-3,-4,-5,-6])\n",
        "ArrayE_2 = np.array([1,2,3,4,5,6])"
      ],
      "execution_count": 77,
      "outputs": []
    },
    {
      "cell_type": "code",
      "metadata": {
        "id": "4N7t096X7gcy",
        "outputId": "8eef2cd1-14f1-4c94-ed55-4155c3da82df",
        "colab": {
          "base_uri": "https://localhost:8080/"
        }
      },
      "source": [
        "def inner_product(ArrayA_1, ArrayA_2):\n",
        "    lenght = len(ArrayA_1)\n",
        "    total = 0\n",
        "    for i in range(lenght):\n",
        "        total = total + (ArrayA_1[i] * ArrayA_2[i])\n",
        "    print(total)\n",
        "print (\"\\n-Array A-\\n\")\n",
        "print (\"Using Vector Dot Product     : \", (ArrayA_1@ArrayA_2))\n",
        "print (\"Using Explicit function ArrayA1 and ArrayA2: \") \n",
        "inner_product(ArrayA_1, ArrayA_2)"
      ],
      "execution_count": 81,
      "outputs": [
        {
          "output_type": "stream",
          "text": [
            "\n",
            "-Array A-\n",
            "\n",
            "Using Vector Dot Product     :  -287.2\n",
            "Using Explicit function ArrayA1 and ArrayA2: \n",
            "-287.2\n"
          ],
          "name": "stdout"
        }
      ]
    },
    {
      "cell_type": "code",
      "metadata": {
        "id": "NyO_1KNf_uyh",
        "outputId": "accfae75-2eee-456e-f85d-4eef64a049bc",
        "colab": {
          "base_uri": "https://localhost:8080/"
        }
      },
      "source": [
        "def inner_product(ArrayB_1, ArrayB_2):\n",
        "    lenght = len(ArrayB_1)\n",
        "    total = 0\n",
        "    for i in range(lenght):\n",
        "        total = total + (ArrayB_1[i] * ArrayB_2[i])\n",
        "    print(total)\n",
        "print (\"\\n-Array B-\\n\")\n",
        "print (\"Using Vector Dot Product     : \", (ArrayB_1@ArrayB_2))\n",
        "print (\"Using Explicit function ArrayB1 and ArrayB2: \") \n",
        "inner_product(ArrayB_1, ArrayB_2)"
      ],
      "execution_count": 83,
      "outputs": [
        {
          "output_type": "stream",
          "text": [
            "\n",
            "-Array B-\n",
            "\n",
            "Using Vector Dot Product     :  -3302.85\n",
            "Using Explicit function ArrayB1 and ArrayB2: \n",
            "-3302.85\n"
          ],
          "name": "stdout"
        }
      ]
    },
    {
      "cell_type": "code",
      "metadata": {
        "id": "CzafWA1BAAS8",
        "outputId": "fe991716-bce9-44ae-f29d-6730b07fbc3a",
        "colab": {
          "base_uri": "https://localhost:8080/"
        }
      },
      "source": [
        "def inner_product(ArrayC_1, ArrayC_2):\n",
        "    lenght = len(ArrayC_1)\n",
        "    total = 0\n",
        "    for i in range(lenght):\n",
        "        total = total + (ArrayC_1[i] * ArrayC_2[i])\n",
        "    print(total)\n",
        "print (\"\\n-Array C-\\n\")\n",
        "print (\"Using Vector Dot Product     : \", (ArrayC_1@ArrayC_2))\n",
        "print (\"Using Explicit function ArrayC1 and ArrayC2: \") \n",
        "inner_product(ArrayC_1, ArrayC_2)"
      ],
      "execution_count": 87,
      "outputs": [
        {
          "output_type": "stream",
          "text": [
            "\n",
            "-Array C-\n",
            "\n",
            "Using Vector Dot Product     :  -806.23\n",
            "Using Explicit function ArrayC1 and ArrayC2: \n",
            "-806.23\n"
          ],
          "name": "stdout"
        }
      ]
    },
    {
      "cell_type": "code",
      "metadata": {
        "id": "sdcIvYllBHPm",
        "outputId": "540643dc-4ba8-4b67-d611-c0fffce26913",
        "colab": {
          "base_uri": "https://localhost:8080/"
        }
      },
      "source": [
        "def inner_product(ArrayD_1, ArrayD_2):\n",
        "    lenght = len(ArrayD_1)\n",
        "    total = 0\n",
        "    for i in range(lenght):\n",
        "        total = total + (ArrayD_1[i] * ArrayD_2[i])\n",
        "    print(total)\n",
        "print (\"\\n-Array D-\\n\")\n",
        "print (\"Using Vector Dot Product     : \", (ArrayD_1@ArrayD_2))\n",
        "print (\"Using Explicit function ArrayD1 and ArrayD2: \") \n",
        "inner_product(ArrayD_1, ArrayD_2)"
      ],
      "execution_count": 88,
      "outputs": [
        {
          "output_type": "stream",
          "text": [
            "\n",
            "-Array D-\n",
            "\n",
            "Using Vector Dot Product     :  0\n",
            "Using Explicit function ArrayD1 and ArrayD2: \n",
            "0\n"
          ],
          "name": "stdout"
        }
      ]
    },
    {
      "cell_type": "code",
      "metadata": {
        "id": "wFIOFyPhBU8j",
        "outputId": "a16cdd4b-20c8-48ac-a4ec-b4fee44c00e6",
        "colab": {
          "base_uri": "https://localhost:8080/"
        }
      },
      "source": [
        "def inner_product(ArrayE_1, ArrayE_2):\n",
        "    lenght = len(ArrayE_1)\n",
        "    total = 0\n",
        "    for i in range(lenght):\n",
        "        total = total + (ArrayE_1[i] * ArrayE_2[i])\n",
        "    print(total)\n",
        "print (\"\\n-Array E-\\n\")\n",
        "print (\"Using Vector Dot Product     : \", (ArrayE_1@ArrayE_2))\n",
        "print (\"Using Explicit function ArrayC1 and ArrayC2: \") \n",
        "inner_product(ArrayE_1, ArrayE_2)"
      ],
      "execution_count": 89,
      "outputs": [
        {
          "output_type": "stream",
          "text": [
            "\n",
            "-Array E-\n",
            "\n",
            "Using Vector Dot Product     :  -91\n",
            "Using Explicit function ArrayC1 and ArrayC2: \n",
            "-91\n"
          ],
          "name": "stdout"
        }
      ]
    },
    {
      "cell_type": "markdown",
      "metadata": {
        "id": "3lKv3KbhigEL"
      },
      "source": [
        "**Task 3**<br>\n",
        "\n",
        "Code the following vector operation and solve them using the given vector values\n",
        "\n",
        "$$ ((A^2 + B^2 + C^2) * (A * (B + A*B)./C))*||A + B + C||$$$$A = \\begin{bmatrix}-0.4\\\\0.3\\\\-0.6\\end{bmatrix}, B = \\begin{bmatrix}-0.2\\\\0.2\\\\1\\end{bmatrix}, C = \\begin{bmatrix}0.2\\\\0.1\\\\-0.5\\end{bmatrix}$$\n",
        "Create a program flowchart for your algorithm and explain it in your methodology. In your results, compare your answer to the expected output, visualize, and explain the resulting vector using a 3D plot.\n",
        "\n",
        "Expected answer:\n",
        "array([0.34769805, 1.13001866, 0.6953961 ])"
      ]
    },
    {
      "cell_type": "code",
      "metadata": {
        "id": "lnM8yilqnvtH"
      },
      "source": [
        "A = np.array([-0.4,0.3,-0.6])\n",
        "B = np.array([-0.2,0.2,1])\n",
        "C = np.array([0.2,0.1,-0.5])"
      ],
      "execution_count": 37,
      "outputs": []
    },
    {
      "cell_type": "markdown",
      "metadata": {
        "id": "gCRHHBPCqOMp"
      },
      "source": [
        "**Square a number in Python**"
      ]
    },
    {
      "cell_type": "code",
      "metadata": {
        "id": "Wlgw4j6tqoDL",
        "outputId": "cdb666f4-dcc4-478c-e22c-d578ab21965b",
        "colab": {
          "base_uri": "https://localhost:8080/"
        }
      },
      "source": [
        "print (\"\\nSquare Value of A : \", np.square(A)) \n",
        "print (\"\\nSquare Value of B : \", np.square(B)) \n",
        "print (\"\\nSquare Value of C : \", np.square(C))\n",
        "\n",
        "e=np.square(A)\n",
        "f=np.square(B)\n",
        "g=np.square(C) "
      ],
      "execution_count": 96,
      "outputs": [
        {
          "output_type": "stream",
          "text": [
            "\n",
            "Square Value of A :  [0.16 0.09 0.36]\n",
            "\n",
            "Square Value of B :  [0.04 0.04 1.  ]\n",
            "\n",
            "Square Value of C :  [0.04 0.01 0.25]\n"
          ],
          "name": "stdout"
        }
      ]
    },
    {
      "cell_type": "markdown",
      "metadata": {
        "id": "PT43WHZdsf-I"
      },
      "source": [
        "**Sum of squared A, B, and C**\n",
        "$$ (A^2 + B^2 + C^2) $$"
      ]
    },
    {
      "cell_type": "code",
      "metadata": {
        "id": "P2wacwLwropM",
        "outputId": "ac5d0369-f0c3-49ae-958c-cf6eb4a35631",
        "colab": {
          "base_uri": "https://localhost:8080/"
        }
      },
      "source": [
        "X= np.square(A)+np.square(B)+np.square(C)\n",
        "print (\"\\n Sum of first equation : \",X)"
      ],
      "execution_count": 97,
      "outputs": [
        {
          "output_type": "stream",
          "text": [
            "\n",
            " Sum of first equation :  [0.24 0.14 1.61]\n"
          ],
          "name": "stdout"
        }
      ]
    },
    {
      "cell_type": "markdown",
      "metadata": {
        "id": "VgjF83SRwW0h"
      },
      "source": [
        "**Second Equation**\n",
        "$$ (A * (B + A*B)./C) $$"
      ]
    },
    {
      "cell_type": "code",
      "metadata": {
        "id": "5i5mSgNZsd4N",
        "outputId": "50516812-2435-46df-fa23-f1e8ce2c4c17",
        "colab": {
          "base_uri": "https://localhost:8080/"
        }
      },
      "source": [
        "Y= (A*(B+A*B)/C)\n",
        "Y"
      ],
      "execution_count": 94,
      "outputs": [
        {
          "output_type": "execute_result",
          "data": {
            "text/plain": [
              "array([0.24, 0.78, 0.48])"
            ]
          },
          "metadata": {
            "tags": []
          },
          "execution_count": 94
        }
      ]
    },
    {
      "cell_type": "markdown",
      "metadata": {
        "id": "rxrTn2LnxuCE"
      },
      "source": [
        "$$||A + B + C||$$"
      ]
    },
    {
      "cell_type": "markdown",
      "metadata": {
        "id": "Uu2ge3X4ZTBb"
      },
      "source": [
        "**Modulus of a Vector**"
      ]
    },
    {
      "cell_type": "code",
      "metadata": {
        "id": "I6hGTnLpInW7",
        "outputId": "651d4aa7-5cf4-4f10-f0a1-86c7360454f3",
        "colab": {
          "base_uri": "https://localhost:8080/"
        }
      },
      "source": [
        "print (\"\\nModulus of a Vector A : \",np.linalg.norm(A))\n",
        "print (\"\\nModulus of a Vector B : \",np.linalg.norm(B))\n",
        "print (\"\\nModulus of a Vector C : \",np.linalg.norm(C))\n"
      ],
      "execution_count": 98,
      "outputs": [
        {
          "output_type": "stream",
          "text": [
            "\n",
            "Modulus of a Vector A :  0.7810249675906654\n",
            "\n",
            "Modulus of a Vector B :  1.0392304845413265\n",
            "\n",
            "Modulus of a Vector C :  0.5477225575051661\n"
          ],
          "name": "stdout"
        }
      ]
    },
    {
      "cell_type": "code",
      "metadata": {
        "id": "jOK96Rt8J1ib",
        "outputId": "52b48456-5d9c-48ca-a4a1-0db330b74c88",
        "colab": {
          "base_uri": "https://localhost:8080/"
        }
      },
      "source": [
        "h=A+B+C\n",
        "h"
      ],
      "execution_count": 107,
      "outputs": [
        {
          "output_type": "execute_result",
          "data": {
            "text/plain": [
              "array([-0.4,  0.6, -0.1])"
            ]
          },
          "metadata": {
            "tags": []
          },
          "execution_count": 107
        }
      ]
    },
    {
      "cell_type": "code",
      "metadata": {
        "id": "Ub05joHFI5z5",
        "outputId": "32505b18-6994-4b9c-9438-407d8e839141",
        "colab": {
          "base_uri": "https://localhost:8080/"
        }
      },
      "source": [
        "i=np.linalg.norm(h)\n",
        "i\n"
      ],
      "execution_count": 108,
      "outputs": [
        {
          "output_type": "execute_result",
          "data": {
            "text/plain": [
              "0.7280109889280518"
            ]
          },
          "metadata": {
            "tags": []
          },
          "execution_count": 108
        }
      ]
    },
    {
      "cell_type": "code",
      "metadata": {
        "id": "Am3UejodZZti",
        "outputId": "11f8a1e4-fa6f-4448-d7ef-9e39994b2571",
        "colab": {
          "base_uri": "https://localhost:8080/"
        }
      },
      "source": [
        "Z=i\n",
        "print (\"\\n\\nThe sum of Modulus Vector of A, B and C\",Z)\n"
      ],
      "execution_count": 109,
      "outputs": [
        {
          "output_type": "stream",
          "text": [
            "\n",
            "\n",
            "The sum of Modulus Vector of A, B and C 0.7280109889280518\n"
          ],
          "name": "stdout"
        }
      ]
    },
    {
      "cell_type": "code",
      "metadata": {
        "id": "farYubNxJJxj",
        "outputId": "f0dede36-0db4-4449-f176-ad669cf09057",
        "colab": {
          "base_uri": "https://localhost:8080/"
        }
      },
      "source": [
        "X*Y*Z"
      ],
      "execution_count": 110,
      "outputs": [
        {
          "output_type": "execute_result",
          "data": {
            "text/plain": [
              "array([0.04193343, 0.0794988 , 0.56260689])"
            ]
          },
          "metadata": {
            "tags": []
          },
          "execution_count": 110
        }
      ]
    },
    {
      "cell_type": "markdown",
      "metadata": {
        "id": "EBjklrPrvizT"
      },
      "source": [
        "**Using one equation**"
      ]
    },
    {
      "cell_type": "code",
      "metadata": {
        "id": "CVbUEjkWxbUx",
        "outputId": "973819f0-0807-426e-a8b2-bf3e38be0d60",
        "colab": {
          "base_uri": "https://localhost:8080/"
        }
      },
      "source": [
        "(((np.square(A) + np.square(B) + np.square(C))*(A*(B+A*B)/C)*(np.linalg.norm(h) )))"
      ],
      "execution_count": 111,
      "outputs": [
        {
          "output_type": "execute_result",
          "data": {
            "text/plain": [
              "array([0.04193343, 0.0794988 , 0.56260689])"
            ]
          },
          "metadata": {
            "tags": []
          },
          "execution_count": 111
        }
      ]
    },
    {
      "cell_type": "code",
      "metadata": {
        "id": "8pDrFuMcE_kb",
        "outputId": "e6d64e80-9ecf-478b-cec1-a44bba01d0bf",
        "colab": {
          "base_uri": "https://localhost:8080/",
          "height": 248
        }
      },
      "source": [
        "fig = plt.figure()\n",
        "ax1 = fig.gca(projection='3d')\n",
        "\n",
        "ax1.set_xlim([0, 5])\n",
        "ax1.set_ylim([0, 5])\n",
        "ax1.set_zlim([0, 5])\n",
        "\n",
        "origin = (0,0,0)\n",
        "ax1.quiver(origin, origin, origin, 0.34769805, 1.13001866, 0.6953961, \n",
        "           arrow_length_ratio=3, colors=['red','blue','green'])\n",
        "plt.show()"
      ],
      "execution_count": 57,
      "outputs": [
        {
          "output_type": "display_data",
          "data": {
            "image/png": "[encoded data removed]",
            "text/plain": [
              "<Figure size 432x288 with 1 Axes>"
            ]
          },
          "metadata": {
            "tags": [],
            "needs_background": "light"
          }
        }
      ]
    }
  ]
}